{
 "cells": [
  {
   "cell_type": "markdown",
   "metadata": {},
   "source": [
    "# Numpy \n",
    "It is similar to list. \n",
    "\n",
    "**Syntax**: - a=np.arange(6)\n",
    "\n",
    "- Faster \n",
    "- Consume less memory\n",
    "- One data type\n",
    "\n",
    "**Array**: An array is central data type of the numpy Library. An array is a grid of values and it contains information about the row data, how to locate element, and how to interpret an element. The elements are all of the same type, referred as to the array dtype. An array of non-negative integers, by Boolean, by another array, or by integer. \n",
    "\n",
    "**Rank of An Array:** The rank of an array is the dimension of an array. \n",
    "\n",
    "**Shape of An Array:** The shape of an array is a tuple of Integers giving the size of the array along each dimension. \n",
    "\n",
    "**Tuple of Integers:**\n"
   ]
  },
  {
   "cell_type": "markdown",
   "metadata": {},
   "source": [
    "- ### Array "
   ]
  },
  {
   "cell_type": "code",
   "execution_count": 4,
   "metadata": {},
   "outputs": [],
   "source": [
    "# Import numpy library\n",
    "import numpy as np "
   ]
  },
  {
   "cell_type": "code",
   "execution_count": 56,
   "metadata": {},
   "outputs": [
    {
     "name": "stdout",
     "output_type": "stream",
     "text": [
      "The Array we created is: [5 5 5 5 5 5]\n"
     ]
    }
   ],
   "source": [
    "# defining and displaying array\n",
    "a=np.array([5,5,5,5,5,5]) \n",
    "print(\"The Array we created is:\",a)"
   ]
  },
  {
   "cell_type": "code",
   "execution_count": 57,
   "metadata": {},
   "outputs": [
    {
     "name": "stdout",
     "output_type": "stream",
     "text": [
      "The Type of array is : <class 'numpy.ndarray'>\n"
     ]
    }
   ],
   "source": [
    "# Type of ann array\n",
    "print(\"The Type of array is :\", type(a))"
   ]
  },
  {
   "cell_type": "code",
   "execution_count": 45,
   "metadata": {},
   "outputs": [
    {
     "name": "stdout",
     "output_type": "stream",
     "text": [
      "[[5 5 5]\n",
      " [5 5 5]\n",
      " [5 5 5]] The list of list is 2-D array\n"
     ]
    }
   ],
   "source": [
    "# 2D array (list of list)\n",
    "b=np.array([[5,5,5],[5,5,5],[5,5,5]])\n",
    "print(b, \"The list of list is 2-D array\")"
   ]
  },
  {
   "cell_type": "markdown",
   "metadata": {},
   "source": [
    "- A **vector** is an array with single dimension (no difference between row and column vector). \n",
    "\n",
    "- A **matrix** refers to an array with two dimension.  \n",
    "________"
   ]
  },
  {
   "cell_type": "markdown",
   "metadata": {},
   "source": [
    "- ### 1-D Array"
   ]
  },
  {
   "cell_type": "code",
   "execution_count": 6,
   "metadata": {},
   "outputs": [],
   "source": [
    "# Import numpy as np\n",
    "import numpy as np"
   ]
  },
  {
   "cell_type": "code",
   "execution_count": 46,
   "metadata": {},
   "outputs": [
    {
     "name": "stdout",
     "output_type": "stream",
     "text": [
      "[6 6 6] The defined array\n"
     ]
    }
   ],
   "source": [
    "# defining and displaying array\n",
    "a=np.array([6,6,6])\n",
    "print(a, \"The defined array\" )"
   ]
  },
  {
   "cell_type": "code",
   "execution_count": 47,
   "metadata": {},
   "outputs": [
    {
     "name": "stdout",
     "output_type": "stream",
     "text": [
      "<class 'numpy.ndarray'> The type of our defined\n"
     ]
    }
   ],
   "source": [
    "# Check type of array\n",
    "print(type(a), \"The type of our defined\")"
   ]
  },
  {
   "cell_type": "code",
   "execution_count": 49,
   "metadata": {},
   "outputs": [
    {
     "name": "stdout",
     "output_type": "stream",
     "text": [
      "3 is the length of defined array\n"
     ]
    }
   ],
   "source": [
    "# Length of array\n",
    "print(len(a),\"is the length of defined array\")"
   ]
  },
  {
   "cell_type": "code",
   "execution_count": 64,
   "metadata": {},
   "outputs": [
    {
     "name": "stdout",
     "output_type": "stream",
     "text": [
      "The element at zero index is:  6\n",
      "The element at 1 index is:  6\n",
      "The element at 2 index is:  6\n",
      "The whole array is :  [6 6 6]\n"
     ]
    }
   ],
   "source": [
    "# Indexing an array\n",
    "print(\"The element at zero index is: \", a[0])\n",
    "print(\"The element at 1 index is: \", a[1])\n",
    "print(\"The element at 2 index is: \", a[2])\n",
    "print(\"The whole array is : \", a[0:])"
   ]
  },
  {
   "cell_type": "markdown",
   "metadata": {},
   "source": [
    "______"
   ]
  },
  {
   "cell_type": "markdown",
   "metadata": {},
   "source": [
    "- ### 2-D Array"
   ]
  },
  {
   "cell_type": "code",
   "execution_count": 66,
   "metadata": {},
   "outputs": [],
   "source": [
    "# import numpy module\n",
    "import numpy as np "
   ]
  },
  {
   "cell_type": "code",
   "execution_count": 53,
   "metadata": {},
   "outputs": [
    {
     "name": "stdout",
     "output_type": "stream",
     "text": [
      "[[7 7 7]\n",
      " [8 8 8]\n",
      " [9 9 9]] : The 2-D array\n"
     ]
    }
   ],
   "source": [
    "# defining and displaying array 2D array (List of List)\n",
    "b=np.array([[7,7,7],[8,8,8],[9,9,9]])\n",
    "print (b, \": The 2-D array\")"
   ]
  },
  {
   "cell_type": "code",
   "execution_count": 69,
   "metadata": {},
   "outputs": [
    {
     "name": "stdout",
     "output_type": "stream",
     "text": [
      "The type of array is:  <class 'numpy.ndarray'>\n"
     ]
    }
   ],
   "source": [
    "# Checking the type \n",
    "print(\"The type of array is: \",type(b))"
   ]
  },
  {
   "cell_type": "code",
   "execution_count": 70,
   "metadata": {},
   "outputs": [
    {
     "name": "stdout",
     "output_type": "stream",
     "text": [
      "The length of array is:  3\n"
     ]
    }
   ],
   "source": [
    "# Length of array\n",
    "print(\"The length of array is: \", len(b))"
   ]
  },
  {
   "cell_type": "code",
   "execution_count": 71,
   "metadata": {},
   "outputs": [
    {
     "name": "stdout",
     "output_type": "stream",
     "text": [
      "The element of array at index 1 is :  [8 8 8]\n"
     ]
    }
   ],
   "source": [
    "# Indexing of array\n",
    "print(\"The elements of array at index 1 is : \", b[1])"
   ]
  },
  {
   "cell_type": "code",
   "execution_count": 51,
   "metadata": {},
   "outputs": [
    {
     "name": "stdout",
     "output_type": "stream",
     "text": [
      "[[5 5 5]\n",
      " [5 5 5]\n",
      " [5 5 5]] : Indexed array \n"
     ]
    }
   ],
   "source": [
    "# Whole array\n",
    "print(b[0:], \": Indexed array \")"
   ]
  },
  {
   "cell_type": "markdown",
   "metadata": {},
   "source": [
    "_____"
   ]
  },
  {
   "cell_type": "markdown",
   "metadata": {},
   "source": [
    "# 3-D array\n",
    "\n",
    "For **3-D higher dimensional array**, the term tensor is also used. The dimension are called axis. \n",
    "\n",
    "**Tensoflow**: is free and open source software library for machine learning and artificial intelligence.\n",
    "\n",
    "Creating an array and other details..."
   ]
  },
  {
   "cell_type": "code",
   "execution_count": 1,
   "metadata": {},
   "outputs": [],
   "source": [
    "# import numpy library\n",
    "import numpy as np "
   ]
  },
  {
   "cell_type": "code",
   "execution_count": 50,
   "metadata": {},
   "outputs": [
    {
     "name": "stdout",
     "output_type": "stream",
     "text": [
      "[[[2 2 2]\n",
      "  [1 1 1]]] : The 3D array we created\n"
     ]
    }
   ],
   "source": [
    "# defining and displaying 3D array\n",
    "c=np.array([[[2,2,2],[1,1,1]]])\n",
    "print(c, \": The 3D array we created\")"
   ]
  },
  {
   "cell_type": "markdown",
   "metadata": {},
   "source": [
    "In the above array we have **2-axis:** \n",
    "\n",
    "- **First axis:** has length 2, which means that it contain 2,2 elements from top to bottom.\n",
    "\n",
    "- **Second axis:** has length 3, which means that it contain 3,3 elements from left to right.  "
   ]
  },
  {
   "cell_type": "markdown",
   "metadata": {},
   "source": [
    "____"
   ]
  },
  {
   "cell_type": "markdown",
   "metadata": {},
   "source": [
    "- **Array by other commands**"
   ]
  },
  {
   "cell_type": "code",
   "execution_count": 5,
   "metadata": {},
   "outputs": [
    {
     "name": "stdout",
     "output_type": "stream",
     "text": [
      "The one dimensional array containing 2 zeros elements:  [0. 0.]\n"
     ]
    }
   ],
   "source": [
    "# Arrays of zeros of 2 zeros\n",
    "b=np.zeros(2)\n",
    "print(\"The one dimensional array containing 2 zeros elements: \",b)"
   ]
  },
  {
   "cell_type": "code",
   "execution_count": 6,
   "metadata": {},
   "outputs": [
    {
     "name": "stdout",
     "output_type": "stream",
     "text": [
      "The one dimensional array containing 3 ones elements:  [1. 1. 1.]\n"
     ]
    }
   ],
   "source": [
    "# Array of three ones \n",
    "c=np.ones(3)\n",
    "print(\"The one dimensional array containing 3 ones elements: \",c)"
   ]
  },
  {
   "cell_type": "code",
   "execution_count": 7,
   "metadata": {},
   "outputs": [
    {
     "name": "stdout",
     "output_type": "stream",
     "text": [
      "An empty 1 D array containing two zeros: [0. 0.]\n"
     ]
    }
   ],
   "source": [
    "# Creating an empty array\n",
    "d=np.empty(2)\n",
    "print(\"An empty 1 D array containing two zeros:\", d)"
   ]
  },
  {
   "cell_type": "code",
   "execution_count": 13,
   "metadata": {},
   "outputs": [
    {
     "name": "stdout",
     "output_type": "stream",
     "text": [
      "An empty 1 D array containing four zeros: [1. 1. 1.]\n"
     ]
    }
   ],
   "source": [
    "r=np.empty(3)\n",
    "print(\"An empty 1 D array containing four zeros:\", r)\n",
    "# this need clarification "
   ]
  },
  {
   "cell_type": "code",
   "execution_count": 19,
   "metadata": {},
   "outputs": [
    {
     "name": "stdout",
     "output_type": "stream",
     "text": [
      "The array of 6 elements : => [0 1 2 3 4 5] . In python the last term is exclusive\n"
     ]
    }
   ],
   "source": [
    "# Array with range of elements\n",
    "f=np.arange(6)\n",
    "print(\"The array of 6 elements : =>\", f, \". In python the last term is exclusive\")"
   ]
  },
  {
   "cell_type": "code",
   "execution_count": 23,
   "metadata": {},
   "outputs": [
    {
     "name": "stdout",
     "output_type": "stream",
     "text": [
      "An array from range 2 to 20 is :  [ 2  3  4  5  6  7  8  9 10 11 12 13 14 15 16 17 18 19] . Last term is exclusive in python\n"
     ]
    }
   ],
   "source": [
    "# Creating array with specific range (from - to)\n",
    "g=np.arange(2,20)\n",
    "print(\"An array from range 2 to 20 is : \", g, \". Last term is exclusive in python\")"
   ]
  },
  {
   "cell_type": "code",
   "execution_count": 24,
   "metadata": {},
   "outputs": [
    {
     "name": "stdout",
     "output_type": "stream",
     "text": [
      "An array from 2 to 20 with interval between each two terms are 2 is :  [ 2  4  6  8 10 12 14 16 18] . Last term is exclusive\n"
     ]
    }
   ],
   "source": [
    "# Creating array with specific interval between elements\n",
    "h=np.arange(2,20,2)\n",
    "print(\"An array from 2 to 20 with interval between each two terms are 2 is : \",h,\". Last term is exclusive\")"
   ]
  },
  {
   "cell_type": "code",
   "execution_count": 26,
   "metadata": {},
   "outputs": [
    {
     "name": "stdout",
     "output_type": "stream",
     "text": [
      "Linearly spaced array from zero to 10 is containing 5 numbers is :  [ 0.   2.5  5.   7.5 10. ]\n"
     ]
    }
   ],
   "source": [
    "# Linearly spaced array\n",
    "i=np.linspace(0,10,num=5)   # num means contains 5 elements\n",
    "print(\"Linearly spaced array from zero to 10 is containing 5 numbers is : \", i,)"
   ]
  },
  {
   "cell_type": "code",
   "execution_count": 37,
   "metadata": {},
   "outputs": [
    {
     "name": "stdout",
     "output_type": "stream",
     "text": [
      "The array of 5 ones with dtype int8 is :  [1 1 1 1 1]\n",
      "type of array is :  <class 'numpy.ndarray'>\n"
     ]
    }
   ],
   "source": [
    "# Specific data type in array\n",
    "j=np.ones(5, dtype=np.int8)\n",
    "print(\"The array of 5 ones with dtype int8 is : \", j)\n",
    "print(\"type of array is : \", type(j))"
   ]
  },
  {
   "cell_type": "code",
   "execution_count": 38,
   "metadata": {},
   "outputs": [
    {
     "data": {
      "text/plain": [
       "array([1., 1., 1.])"
      ]
     },
     "execution_count": 38,
     "metadata": {},
     "output_type": "execute_result"
    }
   ],
   "source": [
    "k=np.ones(3, dtype=np.float64)\n",
    "k\n",
    "# Google the types "
   ]
  },
  {
   "cell_type": "code",
   "execution_count": 39,
   "metadata": {},
   "outputs": [
    {
     "name": "stdout",
     "output_type": "stream",
     "text": [
      "2-D array of zeros is :  [[0. 0. 0. 0.]\n",
      " [0. 0. 0. 0.]\n",
      " [0. 0. 0. 0.]] . enclosed in [[]]\n"
     ]
    }
   ],
   "source": [
    "# 2-D array of zeros \n",
    "l=np.zeros((3,4))\n",
    "print(\"2-D array of zeros is : \", l, \". enclosed in [[]]\")"
   ]
  },
  {
   "cell_type": "code",
   "execution_count": 40,
   "metadata": {},
   "outputs": [
    {
     "name": "stdout",
     "output_type": "stream",
     "text": [
      "2-D array of ones is :  [[1. 1. 1. 1. 1. 1.]\n",
      " [1. 1. 1. 1. 1. 1.]\n",
      " [1. 1. 1. 1. 1. 1.]\n",
      " [1. 1. 1. 1. 1. 1.]\n",
      " [1. 1. 1. 1. 1. 1.]] . enclosed in [[]]\n"
     ]
    }
   ],
   "source": [
    "m=np.ones((5,6))\n",
    "print(\"2-D array of ones is : \", m, \". enclosed in [[]]\")"
   ]
  },
  {
   "cell_type": "code",
   "execution_count": 41,
   "metadata": {},
   "outputs": [
    {
     "name": "stdout",
     "output_type": "stream",
     "text": [
      "2-D an empty array is :  [[0. 0. 0. 0.]\n",
      " [0. 0. 0. 0.]\n",
      " [0. 0. 0. 0.]] . enclosed in [[]]\n"
     ]
    }
   ],
   "source": [
    "o=np.empty((3,4))\n",
    "print(\"2-D an empty array is : \", o, \". enclosed in [[]]\")"
   ]
  },
  {
   "cell_type": "code",
   "execution_count": 44,
   "metadata": {},
   "outputs": [
    {
     "name": "stdout",
     "output_type": "stream",
     "text": [
      "[[[ 0  1  2  3]\n",
      "  [ 4  5  6  7]\n",
      "  [ 8  9 10 11]]\n",
      "\n",
      " [[12 13 14 15]\n",
      "  [16 17 18 19]\n",
      "  [20 21 22 23]]] Reshaped 3-D array into 2 3 4 is :\n"
     ]
    }
   ],
   "source": [
    "# Creating and reshaping 3D array\n",
    "p=np.arange(24).reshape(2,3,4)  # contain 24 elements in shape 2 3 4 dimensions \n",
    "print(p, \"Reshaped 3-D array into 2 3 4 is :\" )"
   ]
  },
  {
   "cell_type": "markdown",
   "metadata": {},
   "source": [
    "_____________________\n",
    "### Numpy Library practice..."
   ]
  },
  {
   "cell_type": "code",
   "execution_count": 49,
   "metadata": {},
   "outputs": [],
   "source": [
    "# Import numpy library\n",
    "import numpy as np"
   ]
  },
  {
   "cell_type": "code",
   "execution_count": 50,
   "metadata": {},
   "outputs": [
    {
     "data": {
      "text/plain": [
       "array(['Pakora', 'Samosa', 'Raita'], dtype='<U6')"
      ]
     },
     "execution_count": 50,
     "metadata": {},
     "output_type": "execute_result"
    }
   ],
   "source": [
    "# defining array with name \n",
    "food=np.array([\"Pakora\", \"Samosa\", \"Raita\"])\n",
    "food"
   ]
  },
  {
   "cell_type": "code",
   "execution_count": 51,
   "metadata": {},
   "outputs": [
    {
     "data": {
      "text/plain": [
       "array([350, 460, 210])"
      ]
     },
     "execution_count": 51,
     "metadata": {},
     "output_type": "execute_result"
    }
   ],
   "source": [
    "# defining array with name \n",
    "prices=np.array([350,460,210])\n",
    "prices"
   ]
  },
  {
   "cell_type": "markdown",
   "metadata": {},
   "source": [
    "+ We can check types, lengths and indexing of the array as mentioned above... "
   ]
  },
  {
   "cell_type": "code",
   "execution_count": 52,
   "metadata": {},
   "outputs": [
    {
     "data": {
      "text/plain": [
       "340.0"
      ]
     },
     "execution_count": 52,
     "metadata": {},
     "output_type": "execute_result"
    }
   ],
   "source": [
    "# calculating the mean of the prices \n",
    "prices.mean()"
   ]
  },
  {
   "cell_type": "markdown",
   "metadata": {},
   "source": [
    "- ### Array Functions"
   ]
  },
  {
   "cell_type": "code",
   "execution_count": 59,
   "metadata": {},
   "outputs": [
    {
     "data": {
      "text/plain": [
       "array([10.2, 30.7,  6. ,  8. , 94. ,  5. ])"
      ]
     },
     "execution_count": 59,
     "metadata": {},
     "output_type": "execute_result"
    }
   ],
   "source": [
    "# Lets create an array\n",
    "a=np.array([10.2, 30.7, 6,8, 94,5])\n",
    "a"
   ]
  },
  {
   "cell_type": "code",
   "execution_count": 60,
   "metadata": {},
   "outputs": [
    {
     "data": {
      "text/plain": [
       "array([ 5. ,  6. ,  8. , 10.2, 30.7, 94. ])"
      ]
     },
     "execution_count": 60,
     "metadata": {},
     "output_type": "execute_result"
    }
   ],
   "source": [
    "# Sorting the array in an ascending order\n",
    "a.sort()\n",
    "a"
   ]
  },
  {
   "cell_type": "code",
   "execution_count": 61,
   "metadata": {},
   "outputs": [
    {
     "data": {
      "text/plain": [
       "array([ 20.3,  54. ,  67. ,   8.9, 510. ])"
      ]
     },
     "execution_count": 61,
     "metadata": {},
     "output_type": "execute_result"
    }
   ],
   "source": [
    "# Creating another array\n",
    "b=np.array([20.3, 54, 67, 8.9, 510])\n",
    "b "
   ]
  },
  {
   "cell_type": "code",
   "execution_count": 62,
   "metadata": {},
   "outputs": [
    {
     "data": {
      "text/plain": [
       "array([  5. ,   6. ,   8. ,  10.2,  30.7,  94. ,  20.3,  54. ,  67. ,\n",
       "         8.9, 510. ])"
      ]
     },
     "execution_count": 62,
     "metadata": {},
     "output_type": "execute_result"
    }
   ],
   "source": [
    "import numpy as np\n",
    "# Concatenating a and b arrays \n",
    "c=np.concatenate((a,b))\n",
    "c "
   ]
  },
  {
   "cell_type": "code",
   "execution_count": 63,
   "metadata": {},
   "outputs": [],
   "source": [
    "# creating two arrays for further drill\n",
    "a=np.array([[1,2],[5,4]])\n",
    "b=np.array([[6,7],[8,9]])"
   ]
  },
  {
   "cell_type": "code",
   "execution_count": 59,
   "metadata": {},
   "outputs": [
    {
     "data": {
      "text/plain": [
       "array([[1, 2],\n",
       "       [5, 4],\n",
       "       [6, 7],\n",
       "       [8, 9]])"
      ]
     },
     "execution_count": 59,
     "metadata": {},
     "output_type": "execute_result"
    }
   ],
   "source": [
    "# Vertical Concatenation \n",
    "c=np.concatenate((a,b), axis=0)\n",
    "c"
   ]
  },
  {
   "cell_type": "code",
   "execution_count": 64,
   "metadata": {},
   "outputs": [
    {
     "data": {
      "text/plain": [
       "array([[1, 2, 6, 7],\n",
       "       [5, 4, 8, 9]])"
      ]
     },
     "execution_count": 64,
     "metadata": {},
     "output_type": "execute_result"
    }
   ],
   "source": [
    "# Horizontal Concatenation \n",
    "c=np.concatenate((a,b), axis=1)\n",
    "c\n",
    "# dimensions must be equal but google for unequal dimensional array concatenating the array. "
   ]
  },
  {
   "cell_type": "code",
   "execution_count": 7,
   "metadata": {},
   "outputs": [
    {
     "data": {
      "text/plain": [
       "array([[[0, 1, 2, 3],\n",
       "        [4, 5, 6, 7]],\n",
       "\n",
       "       [[0, 1, 2, 3],\n",
       "        [4, 5, 6, 7]],\n",
       "\n",
       "       [[0, 1, 2, 3],\n",
       "        [4, 5, 6, 7]]])"
      ]
     },
     "execution_count": 7,
     "metadata": {},
     "output_type": "execute_result"
    }
   ],
   "source": [
    "# Creating three dimensional array\n",
    "a=np.array([[[0,1,2,3],[4,5,6,7]],[[0,1,2,3],[4,5,6,7]],[[0,1,2,3],[4,5,6,7]]])\n",
    "a"
   ]
  },
  {
   "cell_type": "code",
   "execution_count": 67,
   "metadata": {},
   "outputs": [
    {
     "name": "stdout",
     "output_type": "stream",
     "text": [
      "The dimension of the above created array 'a' is : 3\n"
     ]
    }
   ],
   "source": [
    "# To find/ check the dimensions of the above array\n",
    "print(\"The dimension of the above created array 'a' is :\", a.ndim)"
   ]
  },
  {
   "cell_type": "code",
   "execution_count": 68,
   "metadata": {},
   "outputs": [
    {
     "data": {
      "text/plain": [
       "array([[ 1,  2,  3],\n",
       "       [ 5,  6,  7],\n",
       "       [10, 11, 12]])"
      ]
     },
     "execution_count": 68,
     "metadata": {},
     "output_type": "execute_result"
    }
   ],
   "source": [
    "# defining and displaying array\n",
    "b=np.array([[1,2,3],[5,6,7],[10,11,12]])\n",
    "b"
   ]
  },
  {
   "cell_type": "code",
   "execution_count": 69,
   "metadata": {},
   "outputs": [
    {
     "name": "stdout",
     "output_type": "stream",
     "text": [
      "The dimension of the above created array 'a' is : 2\n"
     ]
    }
   ],
   "source": [
    "# checking the dimensions\n",
    "print(\"The dimension of the above created array 'a' is :\",b.ndim)"
   ]
  },
  {
   "cell_type": "code",
   "execution_count": 9,
   "metadata": {},
   "outputs": [
    {
     "data": {
      "text/plain": [
       "array([ 0.        ,  1.42857143,  2.85714286,  4.28571429,  5.71428571,\n",
       "        7.14285714,  8.57142857, 10.        ])"
      ]
     },
     "execution_count": 9,
     "metadata": {},
     "output_type": "execute_result"
    }
   ],
   "source": [
    "# defining array of eigth element between 0 to 10 having equal interval. \n",
    "e=np.linspace(0,10, num=8)\n",
    "e\n",
    "# change the value of num "
   ]
  },
  {
   "cell_type": "code",
   "execution_count": 8,
   "metadata": {},
   "outputs": [
    {
     "name": "stdout",
     "output_type": "stream",
     "text": [
      "The size of an array 'a' is : 24\n"
     ]
    }
   ],
   "source": [
    "# Checking the array size \n",
    "print(\"The size of an array 'a' is :\", a.size)"
   ]
  },
  {
   "cell_type": "code",
   "execution_count": 9,
   "metadata": {},
   "outputs": [
    {
     "name": "stdout",
     "output_type": "stream",
     "text": [
      "The shape of an array 'a' is : (3, 2, 4)\n"
     ]
    }
   ],
   "source": [
    "# Finding the shape \n",
    "print(\"The shape of an array 'a' is :\", a.shape)"
   ]
  },
  {
   "cell_type": "code",
   "execution_count": 10,
   "metadata": {},
   "outputs": [
    {
     "name": "stdout",
     "output_type": "stream",
     "text": [
      "[[[0 1 2 3]\n",
      "  [4 5 6 7]]\n",
      "\n",
      " [[0 1 2 3]\n",
      "  [4 5 6 7]]\n",
      "\n",
      " [[0 1 2 3]\n",
      "  [4 5 6 7]]] : the 3-D array we defined.\n"
     ]
    }
   ],
   "source": [
    "# define 3-D array\n",
    "q=np.array([[[0,1,2,3],[4,5,6,7]],[[0,1,2,3],[4,5,6,7]],[[0,1,2,3],[4,5,6,7]]])\n",
    "print(q, \": the 3-D array we defined.\")"
   ]
  },
  {
   "cell_type": "code",
   "execution_count": 11,
   "metadata": {},
   "outputs": [
    {
     "name": "stdout",
     "output_type": "stream",
     "text": [
      "The shape of our defined array q is :  (3, 2, 4)\n"
     ]
    }
   ],
   "source": [
    "print(\"The shape of our defined array q is : \", q.shape)"
   ]
  },
  {
   "cell_type": "code",
   "execution_count": 15,
   "metadata": {},
   "outputs": [
    {
     "name": "stdout",
     "output_type": "stream",
     "text": [
      "[[0 1 2 3 4 5]\n",
      " [6 7 0 1 2 3]\n",
      " [4 5 6 7 0 1]\n",
      " [2 3 4 5 6 7]]  : is our new define array from q.\n"
     ]
    }
   ],
   "source": [
    "# changing the shape of array from q to q1\n",
    "q1=np.reshape(q, newshape=(4,6), order=\"A\")    # order only ka take (A, C, F)\n",
    "print(q1, \" : is our new define array from q.\")\n",
    "# need proper study to check every thing "
   ]
  },
  {
   "cell_type": "code",
   "execution_count": 18,
   "metadata": {},
   "outputs": [
    {
     "name": "stdout",
     "output_type": "stream",
     "text": [
      "The shape of our new defined array from q to q1 is :  (4, 6) . Which is changed, you can see above.\n"
     ]
    }
   ],
   "source": [
    "print(\"The shape of our new defined array from q to q1 is : \",q1.shape, \". Which is changed, you can see above.\")"
   ]
  },
  {
   "cell_type": "code",
   "execution_count": 19,
   "metadata": {},
   "outputs": [
    {
     "name": "stdout",
     "output_type": "stream",
     "text": [
      "[[0 1 2 3 4 5 6 7]\n",
      " [0 1 2 3 4 5 6 7]\n",
      " [0 1 2 3 4 5 6 7]]  : is our new define array from q.\n"
     ]
    }
   ],
   "source": [
    "# changing the shape of array from q to q2 \n",
    "q2=np.reshape(q, newshape=(3,8), order=\"A\")    # order only ka take (A, C, F)\n",
    "print(q2, \" : is our new define array from q.\")\n",
    "# need proper study to check every thing "
   ]
  },
  {
   "cell_type": "code",
   "execution_count": 20,
   "metadata": {},
   "outputs": [
    {
     "name": "stdout",
     "output_type": "stream",
     "text": [
      "The shape of our new defined array from q to q2 is :  (3, 8) . Which is changed, you can see above.\n"
     ]
    }
   ],
   "source": [
    "print(\"The shape of our new defined array from q to q2 is : \",q2.shape, \". Which is changed, you can see above.\")"
   ]
  },
  {
   "cell_type": "markdown",
   "metadata": {},
   "source": [
    "- **Convert 1-D array to 2-D array => Row-wise conversion**"
   ]
  },
  {
   "cell_type": "code",
   "execution_count": 38,
   "metadata": {},
   "outputs": [
    {
     "name": "stdout",
     "output_type": "stream",
     "text": [
      "1-D array: [1 2 3 4 5 6 7 8 9] . Eclosed in []s\n"
     ]
    }
   ],
   "source": [
    "# defining 1-D array\n",
    "a=np.array([1,2,3,4,5,6,7,8,9])\n",
    "print(\"1-D array:\",a, \". Eclosed in []s\")"
   ]
  },
  {
   "cell_type": "code",
   "execution_count": 43,
   "metadata": {},
   "outputs": [
    {
     "name": "stdout",
     "output_type": "stream",
     "text": [
      "Row-Wise Converted Array: [[1 2 3 4 5 6 7 8 9]] . Enclosed in [[]]s\n"
     ]
    }
   ],
   "source": [
    "# row wise 2D Conversion \n",
    "b=a[np.newaxis,:]\n",
    "print(\"Row-Wise Converted Array:\", b, \". Enclosed in [[]]s\")"
   ]
  },
  {
   "cell_type": "markdown",
   "metadata": {},
   "source": [
    "- **Convert 1-D array to 2-D array => Column-wise conversion**"
   ]
  },
  {
   "cell_type": "code",
   "execution_count": 44,
   "metadata": {},
   "outputs": [
    {
     "name": "stdout",
     "output_type": "stream",
     "text": [
      "1-D array: [1 2 3 4 5 6 7 8 9] . Eclosed in []s\n"
     ]
    }
   ],
   "source": [
    "# create an array\n",
    "d=np.array([1,2,3,4,5,6,7,8,9])\n",
    "print(\"1-D array:\",d, \". Eclosed in []s\")"
   ]
  },
  {
   "cell_type": "code",
   "execution_count": 41,
   "metadata": {},
   "outputs": [
    {
     "name": "stdout",
     "output_type": "stream",
     "text": [
      "Column-Wise Converted Array: [[1]\n",
      " [2]\n",
      " [3]\n",
      " [4]\n",
      " [5]\n",
      " [6]\n",
      " [7]\n",
      " [8]\n",
      " [9]] Enclosed in [[]]s\n"
     ]
    }
   ],
   "source": [
    "# Column wise 2D Conversion \n",
    "e=a[:,np.newaxis]\n",
    "print(\"Column-Wise Converted Array:\", e, \"Enclosed in [[]]s\")"
   ]
  },
  {
   "cell_type": "markdown",
   "metadata": {},
   "source": [
    "- **Slicing of Array**"
   ]
  },
  {
   "cell_type": "code",
   "execution_count": 23,
   "metadata": {},
   "outputs": [
    {
     "name": "stdout",
     "output_type": "stream",
     "text": [
      "[  1   2   3   4   5   6   7  12  16 100] . The array we created.\n"
     ]
    }
   ],
   "source": [
    "# Creating 1-D dimensional array\n",
    "a=np.array([1,2,3,4,5,6,7,12,16,100])\n",
    "print(a, \". The array we created.\")"
   ]
  },
  {
   "cell_type": "code",
   "execution_count": 25,
   "metadata": {},
   "outputs": [
    {
     "name": "stdout",
     "output_type": "stream",
     "text": [
      "[3 4 5 6] . The array is sliced. The last digit in Python is exclusive:\n"
     ]
    }
   ],
   "source": [
    "# slicing the array\n",
    "a[2:6]  # from 2 to 6, it may any digits \n",
    "print(a[2:6], \". The array is sliced. The last digit in Python is exclusive:\")"
   ]
  },
  {
   "cell_type": "code",
   "execution_count": 55,
   "metadata": {},
   "outputs": [
    {
     "name": "stdout",
     "output_type": "stream",
     "text": [
      "The last digit in Python is exclusive: [ 2  3  4  5  6  7 12]\n"
     ]
    }
   ],
   "source": [
    "# slicing the array\n",
    "a[1:8]  # from 2 to 6, it may any digits \n",
    "print(\"The last digit in Python is exclusive:\",a[1:8])"
   ]
  },
  {
   "cell_type": "markdown",
   "metadata": {},
   "source": [
    "_______________\n",
    "- Arithmatic Operations and Array"
   ]
  },
  {
   "cell_type": "code",
   "execution_count": 28,
   "metadata": {},
   "outputs": [
    {
     "name": "stdout",
     "output_type": "stream",
     "text": [
      "Multiplication of 6 with array 'a', f= [  6  12  18  24  30  36  42  72  96 600]\n",
      "Each factor got multiplied with 6.\n",
      "Addition of 6 with array 'a', g= [  7   8   9  10  11  12  13  18  22 106]\n",
      "Each factor got increased with 6.\n"
     ]
    }
   ],
   "source": [
    "# Multiplication, addition, a,sum, and a.mean \n",
    "f=a*6\n",
    "g=a+6\n",
    "print(\"Multiplication of 6 with array 'a', f=\",f)\n",
    "print(\"Each factor got multiplied with 6.\")\n",
    "print(\"Addition of 6 with array 'a', g=\",g)\n",
    "print(\"Each factor got increased with 6.\")"
   ]
  },
  {
   "cell_type": "code",
   "execution_count": 29,
   "metadata": {},
   "outputs": [
    {
     "name": "stdout",
     "output_type": "stream",
     "text": [
      "156 : is the sum of all elements of the array 'a'\n"
     ]
    }
   ],
   "source": [
    "# to add all elements of array a \n",
    "print(a.sum(),\": is the sum of all elements of the array 'a'\")"
   ]
  },
  {
   "cell_type": "code",
   "execution_count": 31,
   "metadata": {},
   "outputs": [
    {
     "name": "stdout",
     "output_type": "stream",
     "text": [
      "15.6 : is the mean of of the array 'a'.\n"
     ]
    }
   ],
   "source": [
    "# to add all elements of array a \n",
    "print(a.mean(),\": is the mean of of the array 'a'.\")"
   ]
  }
 ],
 "metadata": {
  "kernelspec": {
   "display_name": "Python 3",
   "language": "python",
   "name": "python3"
  },
  "language_info": {
   "codemirror_mode": {
    "name": "ipython",
    "version": 3
   },
   "file_extension": ".py",
   "mimetype": "text/x-python",
   "name": "python",
   "nbconvert_exporter": "python",
   "pygments_lexer": "ipython3",
   "version": "3.12.4"
  }
 },
 "nbformat": 4,
 "nbformat_minor": 2
}
