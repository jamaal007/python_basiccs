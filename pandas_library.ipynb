{
 "cells": [
  {
   "cell_type": "markdown",
   "metadata": {},
   "source": [
    "# Pandas \n",
    "Pandas is used for \n",
    " - DATA Analysis:  Graphs, Reports and presentations \n",
    "  We have to define our requirements \n",
    "\n",
    "  **Why Pandas**\n",
    "\n",
    "- Virtual part of business\n",
    "- Learn and adopt\n",
    "- Data Driven Decision Making \n",
    "- many more ...\n",
    "\n",
    "  \n",
    " - DATA Manipulation:  It make more organized and readable. \n",
    "    - Purpose:\n",
    "         - Consistent data\n",
    "         - Project related data\n",
    "         - Create more value for data\n",
    "         - Remove and ignore data\n",
    "         - Getting data\n",
    "         - Tidy your data\n",
    "         - Filter according to the need \n",
    "         - Arrange the data \n",
    "         - Merge the data sets if any\n",
    "         - Split the data \n",
    "         - Missing values \n",
    "         - Duplicate values \n",
    "         - We take information from pictures/ image called scrapping \n",
    "  \n",
    "These step makes the data readable \n",
    "\n",
    "**Timeline:**\n",
    "\n",
    "1- 2008 development started \n",
    "\n",
    "2- 2009 pandas become open source \n",
    "\n",
    "3- 2012 first edition of pandas was publish for DATA Analysis \n",
    "\n",
    "4- 2015 pandas became a \"NumFOCUS Sponsored project\"\n",
    "\n",
    "5- 2018 first in person core developer spirit\n",
    "\n",
    "\n",
    "+------------------+------+-------------------+\n",
    "|  ### DATA FRAME  |  VS  |   EXCEL WORKSHEET |\n",
    "|                  |      |                   |\n",
    "|SERIES            |      |        COLUMNS    |\n",
    "|                  |      |                   |\n",
    "|INDEX             |      |    ROW HEADINGS   |\n",
    "|                  |      |                   |\n",
    "|ROW               |      |        ROW        |\n",
    "|                  |      |                   |\n",
    "|NaN               |      |     EMPTY CELL    |\n",
    "+------------------+------+-------------------+\n",
    "\n",
    "\n",
    "# Pandas Practice \n"
   ]
  },
  {
   "cell_type": "code",
   "execution_count": 49,
   "metadata": {},
   "outputs": [
    {
     "ename": "SyntaxError",
     "evalue": "invalid syntax (2837108489.py, line 2)",
     "output_type": "error",
     "traceback": [
      "\u001b[1;36m  Cell \u001b[1;32mIn[49], line 2\u001b[1;36m\u001b[0m\n\u001b[1;33m    pip install pandas    # for window\u001b[0m\n\u001b[1;37m        ^\u001b[0m\n\u001b[1;31mSyntaxError\u001b[0m\u001b[1;31m:\u001b[0m invalid syntax\n"
     ]
    }
   ],
   "source": [
    "# Install pandas \n",
    "pip install pandas    # for window\n",
    "\n",
    "# install for mac\n",
    "# pip3 install pandas "
   ]
  },
  {
   "cell_type": "code",
   "execution_count": 5,
   "metadata": {},
   "outputs": [],
   "source": [
    "# import pandas \n",
    "import pandas as pd"
   ]
  },
  {
   "cell_type": "code",
   "execution_count": 6,
   "metadata": {},
   "outputs": [
    {
     "name": "stdout",
     "output_type": "stream",
     "text": [
      "0    1\n",
      "1    2\n",
      "2    3\n",
      "dtype: int64 : The object we created. \n"
     ]
    }
   ],
   "source": [
    "# object creation \n",
    "s=pd.Series([1,2,3])\n",
    "print(s, \": The object we created. \")"
   ]
  },
  {
   "cell_type": "code",
   "execution_count": 7,
   "metadata": {},
   "outputs": [
    {
     "name": "stdout",
     "output_type": "stream",
     "text": [
      "0    1.0\n",
      "1    2.0\n",
      "2    3.0\n",
      "3    NaN\n",
      "4    5.0\n",
      "5    6.0\n",
      "6    7.0\n",
      "dtype: float64 : is the object we created. \n"
     ]
    }
   ],
   "source": [
    "# to add empty cell in the above created array \n",
    "import numpy as np\n",
    "s1 = pd.Series([1,2,3, np.nan, 5,6,7])\n",
    "print(s1, \": is the object we created. \")"
   ]
  },
  {
   "cell_type": "code",
   "execution_count": 8,
   "metadata": {},
   "outputs": [
    {
     "name": "stdout",
     "output_type": "stream",
     "text": [
      "DatetimeIndex(['2024-07-09', '2024-07-10', '2024-07-11', '2024-07-12',\n",
      "               '2024-07-13', '2024-07-14'],\n",
      "              dtype='datetime64[ns]', freq='D') :is the date series that we created.no exclusive concept here that we studied in numpy here.\n"
     ]
    }
   ],
   "source": [
    "# create date series \n",
    "dates=pd.date_range(\"20240709\", periods=6)  # we can change the periods according to our needs \n",
    "print(dates, \":is the date series that we created.no exclusive concept here that we studied in numpy here.\") "
   ]
  },
  {
   "cell_type": "code",
   "execution_count": 9,
   "metadata": {},
   "outputs": [
    {
     "name": "stdout",
     "output_type": "stream",
     "text": [
      "                   A         B         C         D\n",
      "2024-07-09 -0.058930  0.490527 -0.236268  0.132666\n",
      "2024-07-10 -0.470699  1.062376  0.122089 -0.448934\n",
      "2024-07-11 -1.294913 -1.388746 -0.118229  0.215380\n",
      "2024-07-12  0.315934  0.476434  0.976290  0.180461\n",
      "2024-07-13 -0.416269 -0.214135  0.312435 -0.858065\n",
      "2024-07-14  1.507672 -0.980203  0.888048  1.390121 : is the dataframe that we created. DataFrame is similar to excel workbook. see\n"
     ]
    }
   ],
   "source": [
    "# To create it into DataFrame \n",
    "dataframe=pd.DataFrame(np.random.randn(6,4),index=dates, columns=list(\"ABCD\"))       # (6,4)  => (rows,columns)\n",
    "print(dataframe, \": is the dataframe that we created. DataFrame is similar to excel workbook. see\")\n",
    "\n",
    "# If we look to the above dates series that we created, weh have 6 periods, thats why we created 6 rows. \n",
    "# we can increase the number of columns. \n"
   ]
  },
  {
   "cell_type": "code",
   "execution_count": 10,
   "metadata": {},
   "outputs": [
    {
     "name": "stdout",
     "output_type": "stream",
     "text": [
      "     A          B    C  D      E     F\n",
      "0  1.0 2024-07-09  1.0  3   Text  food\n",
      "1  1.0 2024-07-09  1.0  3  Train  food\n",
      "2  1.0 2024-07-09  1.0  3   Text  food\n",
      "3  1.0 2024-07-09  1.0  3  Train  food\n",
      "The dataframe that we created. It would be better to write just df2 after the code. look below...\n"
     ]
    }
   ],
   "source": [
    "# creating a DataFrame\n",
    "df2=pd.DataFrame(\n",
    "    {\n",
    "        \"A\":1.0,\n",
    "        \"B\":pd.Timestamp(\"20240709\"),\n",
    "        \"C\":pd.Series(1,index=list(range(4)),dtype=\"float32\"),\n",
    "        \"D\":np.array([3]*4, dtype=\"int32\"),\n",
    "        \"E\":pd.Categorical([\"Text\", \"Train\",\"Text\", \"Train\"]),\n",
    "        \"F\": \"food\"\n",
    "    }\n",
    ")\n",
    "print(df2)\n",
    "print( \"The dataframe that we created. It would be better to write just df2 after the code. look below...\")"
   ]
  },
  {
   "cell_type": "code",
   "execution_count": 12,
   "metadata": {},
   "outputs": [
    {
     "data": {
      "text/html": [
       "<div>\n",
       "<style scoped>\n",
       "    .dataframe tbody tr th:only-of-type {\n",
       "        vertical-align: middle;\n",
       "    }\n",
       "\n",
       "    .dataframe tbody tr th {\n",
       "        vertical-align: top;\n",
       "    }\n",
       "\n",
       "    .dataframe thead th {\n",
       "        text-align: right;\n",
       "    }\n",
       "</style>\n",
       "<table border=\"1\" class=\"dataframe\">\n",
       "  <thead>\n",
       "    <tr style=\"text-align: right;\">\n",
       "      <th></th>\n",
       "      <th>A</th>\n",
       "      <th>B</th>\n",
       "      <th>C</th>\n",
       "      <th>D</th>\n",
       "      <th>E</th>\n",
       "      <th>F</th>\n",
       "    </tr>\n",
       "  </thead>\n",
       "  <tbody>\n",
       "    <tr>\n",
       "      <th>0</th>\n",
       "      <td>1.0</td>\n",
       "      <td>2024-07-09</td>\n",
       "      <td>1.0</td>\n",
       "      <td>3</td>\n",
       "      <td>Text</td>\n",
       "      <td>food</td>\n",
       "    </tr>\n",
       "    <tr>\n",
       "      <th>1</th>\n",
       "      <td>1.0</td>\n",
       "      <td>2024-07-09</td>\n",
       "      <td>1.0</td>\n",
       "      <td>3</td>\n",
       "      <td>Train</td>\n",
       "      <td>food</td>\n",
       "    </tr>\n",
       "    <tr>\n",
       "      <th>2</th>\n",
       "      <td>1.0</td>\n",
       "      <td>2024-07-09</td>\n",
       "      <td>1.0</td>\n",
       "      <td>3</td>\n",
       "      <td>Text</td>\n",
       "      <td>food</td>\n",
       "    </tr>\n",
       "    <tr>\n",
       "      <th>3</th>\n",
       "      <td>1.0</td>\n",
       "      <td>2024-07-09</td>\n",
       "      <td>1.0</td>\n",
       "      <td>3</td>\n",
       "      <td>Train</td>\n",
       "      <td>food</td>\n",
       "    </tr>\n",
       "  </tbody>\n",
       "</table>\n",
       "</div>"
      ],
      "text/plain": [
       "     A          B    C  D      E     F\n",
       "0  1.0 2024-07-09  1.0  3   Text  food\n",
       "1  1.0 2024-07-09  1.0  3  Train  food\n",
       "2  1.0 2024-07-09  1.0  3   Text  food\n",
       "3  1.0 2024-07-09  1.0  3  Train  food"
      ]
     },
     "execution_count": 12,
     "metadata": {},
     "output_type": "execute_result"
    }
   ],
   "source": [
    "# creating a DataFrame\n",
    "df2=pd.DataFrame(\n",
    "    {\n",
    "        \"A\":1.0,\n",
    "        \"B\":pd.Timestamp(\"20240709\"),\n",
    "        \"C\":pd.Series(1,index=list(range(4)),dtype=\"float32\"),\n",
    "        \"D\":np.array([3]*4, dtype=\"int32\"),\n",
    "        \"E\":pd.Categorical([\"Text\", \"Train\",\"Text\", \"Train\"]),\n",
    "        \"F\": \"food\"\n",
    "    }\n",
    ")\n",
    "df2"
   ]
  },
  {
   "cell_type": "markdown",
   "metadata": {},
   "source": [
    "Now if we look and compare the above last two tables the last table look more professional. "
   ]
  },
  {
   "cell_type": "code",
   "execution_count": 13,
   "metadata": {},
   "outputs": [
    {
     "data": {
      "text/html": [
       "<div>\n",
       "<style scoped>\n",
       "    .dataframe tbody tr th:only-of-type {\n",
       "        vertical-align: middle;\n",
       "    }\n",
       "\n",
       "    .dataframe tbody tr th {\n",
       "        vertical-align: top;\n",
       "    }\n",
       "\n",
       "    .dataframe thead th {\n",
       "        text-align: right;\n",
       "    }\n",
       "</style>\n",
       "<table border=\"1\" class=\"dataframe\">\n",
       "  <thead>\n",
       "    <tr style=\"text-align: right;\">\n",
       "      <th></th>\n",
       "      <th>A</th>\n",
       "      <th>B</th>\n",
       "      <th>C</th>\n",
       "      <th>D</th>\n",
       "      <th>E</th>\n",
       "      <th>F</th>\n",
       "    </tr>\n",
       "  </thead>\n",
       "  <tbody>\n",
       "    <tr>\n",
       "      <th>0</th>\n",
       "      <td>1.0</td>\n",
       "      <td>2024-07-09</td>\n",
       "      <td>1.0</td>\n",
       "      <td>3</td>\n",
       "      <td>Girl</td>\n",
       "      <td>Computer</td>\n",
       "    </tr>\n",
       "    <tr>\n",
       "      <th>1</th>\n",
       "      <td>1.0</td>\n",
       "      <td>2024-07-09</td>\n",
       "      <td>1.0</td>\n",
       "      <td>3</td>\n",
       "      <td>Boy</td>\n",
       "      <td>Computer</td>\n",
       "    </tr>\n",
       "    <tr>\n",
       "      <th>2</th>\n",
       "      <td>1.0</td>\n",
       "      <td>2024-07-09</td>\n",
       "      <td>1.0</td>\n",
       "      <td>3</td>\n",
       "      <td>Girl</td>\n",
       "      <td>Computer</td>\n",
       "    </tr>\n",
       "    <tr>\n",
       "      <th>3</th>\n",
       "      <td>1.0</td>\n",
       "      <td>2024-07-09</td>\n",
       "      <td>1.0</td>\n",
       "      <td>3</td>\n",
       "      <td>Boy</td>\n",
       "      <td>Computer</td>\n",
       "    </tr>\n",
       "  </tbody>\n",
       "</table>\n",
       "</div>"
      ],
      "text/plain": [
       "     A          B    C  D     E         F\n",
       "0  1.0 2024-07-09  1.0  3  Girl  Computer\n",
       "1  1.0 2024-07-09  1.0  3   Boy  Computer\n",
       "2  1.0 2024-07-09  1.0  3  Girl  Computer\n",
       "3  1.0 2024-07-09  1.0  3   Boy  Computer"
      ]
     },
     "execution_count": 13,
     "metadata": {},
     "output_type": "execute_result"
    }
   ],
   "source": [
    "# same as above and look what look different \n",
    "df3=pd.DataFrame(\n",
    "    {\n",
    "        \"A\":1.0,\n",
    "        \"B\":pd.Timestamp(\"20240709\"),\n",
    "        \"C\":pd.Series(1,index=list(range(4)),dtype=\"float32\"),\n",
    "        \"D\":np.array([3]*4, dtype=\"int32\"),\n",
    "        \"E\":pd.Categorical([\"Girl\", \"Boy\",\"Girl\", \"Boy\"]),\n",
    "        \"F\": \"Computer\"\n",
    "    }\n",
    ")\n",
    "df3"
   ]
  },
  {
   "cell_type": "markdown",
   "metadata": {},
   "source": [
    "Using the above codes we can make dataframes. "
   ]
  },
  {
   "cell_type": "markdown",
   "metadata": {},
   "source": [
    "- To Check the type of DataFrame"
   ]
  },
  {
   "cell_type": "code",
   "execution_count": 14,
   "metadata": {},
   "outputs": [],
   "source": [
    "# importing pandas module\n",
    "import pandas as pd"
   ]
  },
  {
   "cell_type": "code",
   "execution_count": 15,
   "metadata": {},
   "outputs": [
    {
     "name": "stdout",
     "output_type": "stream",
     "text": [
      "A    float64\n",
      "B    float64\n",
      "C    float64\n",
      "D    float64\n",
      "dtype: object : If we look at the dataframe table, we see that date is at the index place\n"
     ]
    }
   ],
   "source": [
    "# to check the type of data frames\n",
    "print(dataframe.dtypes, \": If we look at the dataframe table, we see that date is at the index place\")"
   ]
  },
  {
   "cell_type": "code",
   "execution_count": 16,
   "metadata": {},
   "outputs": [
    {
     "name": "stdout",
     "output_type": "stream",
     "text": [
      "A          float64\n",
      "B    datetime64[s]\n",
      "C          float32\n",
      "D            int32\n",
      "E         category\n",
      "F           object\n",
      "dtype: object : If we look at the above df2 each section can clearly be seen and understood.\n"
     ]
    }
   ],
   "source": [
    "# same as above \n",
    "print(df2.dtypes, \": If we look at the above df2 each section can clearly be seen and understood.\")"
   ]
  },
  {
   "cell_type": "code",
   "execution_count": 17,
   "metadata": {},
   "outputs": [
    {
     "data": {
      "text/plain": [
       "A          float64\n",
       "B    datetime64[s]\n",
       "C          float32\n",
       "D            int32\n",
       "E         category\n",
       "F           object\n",
       "dtype: object"
      ]
     },
     "execution_count": 17,
     "metadata": {},
     "output_type": "execute_result"
    }
   ],
   "source": [
    "df3.dtypes"
   ]
  },
  {
   "cell_type": "code",
   "execution_count": 18,
   "metadata": {},
   "outputs": [
    {
     "name": "stdout",
     "output_type": "stream",
     "text": [
      "                   A         B         C         D\n",
      "2024-07-09 -0.058930  0.490527 -0.236268  0.132666\n",
      "2024-07-10 -0.470699  1.062376  0.122089 -0.448934\n",
      "2024-07-11 -1.294913 -1.388746 -0.118229  0.215380\n",
      "2024-07-12  0.315934  0.476434  0.976290  0.180461\n",
      "2024-07-13 -0.416269 -0.214135  0.312435 -0.858065 : The first rows and headings of our dataframe.\n"
     ]
    }
   ],
   "source": [
    "# to view the dataframe head\n",
    "print(dataframe.head(), \": The first rows and headings of our dataframe.\")"
   ]
  },
  {
   "cell_type": "code",
   "execution_count": 19,
   "metadata": {},
   "outputs": [
    {
     "data": {
      "text/html": [
       "<div>\n",
       "<style scoped>\n",
       "    .dataframe tbody tr th:only-of-type {\n",
       "        vertical-align: middle;\n",
       "    }\n",
       "\n",
       "    .dataframe tbody tr th {\n",
       "        vertical-align: top;\n",
       "    }\n",
       "\n",
       "    .dataframe thead th {\n",
       "        text-align: right;\n",
       "    }\n",
       "</style>\n",
       "<table border=\"1\" class=\"dataframe\">\n",
       "  <thead>\n",
       "    <tr style=\"text-align: right;\">\n",
       "      <th></th>\n",
       "      <th>A</th>\n",
       "      <th>B</th>\n",
       "      <th>C</th>\n",
       "      <th>D</th>\n",
       "    </tr>\n",
       "  </thead>\n",
       "  <tbody>\n",
       "    <tr>\n",
       "      <th>2024-07-09</th>\n",
       "      <td>-0.058930</td>\n",
       "      <td>0.490527</td>\n",
       "      <td>-0.236268</td>\n",
       "      <td>0.132666</td>\n",
       "    </tr>\n",
       "    <tr>\n",
       "      <th>2024-07-10</th>\n",
       "      <td>-0.470699</td>\n",
       "      <td>1.062376</td>\n",
       "      <td>0.122089</td>\n",
       "      <td>-0.448934</td>\n",
       "    </tr>\n",
       "    <tr>\n",
       "      <th>2024-07-11</th>\n",
       "      <td>-1.294913</td>\n",
       "      <td>-1.388746</td>\n",
       "      <td>-0.118229</td>\n",
       "      <td>0.215380</td>\n",
       "    </tr>\n",
       "    <tr>\n",
       "      <th>2024-07-12</th>\n",
       "      <td>0.315934</td>\n",
       "      <td>0.476434</td>\n",
       "      <td>0.976290</td>\n",
       "      <td>0.180461</td>\n",
       "    </tr>\n",
       "    <tr>\n",
       "      <th>2024-07-13</th>\n",
       "      <td>-0.416269</td>\n",
       "      <td>-0.214135</td>\n",
       "      <td>0.312435</td>\n",
       "      <td>-0.858065</td>\n",
       "    </tr>\n",
       "  </tbody>\n",
       "</table>\n",
       "</div>"
      ],
      "text/plain": [
       "                   A         B         C         D\n",
       "2024-07-09 -0.058930  0.490527 -0.236268  0.132666\n",
       "2024-07-10 -0.470699  1.062376  0.122089 -0.448934\n",
       "2024-07-11 -1.294913 -1.388746 -0.118229  0.215380\n",
       "2024-07-12  0.315934  0.476434  0.976290  0.180461\n",
       "2024-07-13 -0.416269 -0.214135  0.312435 -0.858065"
      ]
     },
     "execution_count": 19,
     "metadata": {},
     "output_type": "execute_result"
    }
   ],
   "source": [
    "dataframe.head()"
   ]
  },
  {
   "cell_type": "markdown",
   "metadata": {},
   "source": [
    "Look and see the above last two tables, we see difference between the dataframe tables with **'print'** and **'without print'** function. "
   ]
  },
  {
   "cell_type": "code",
   "execution_count": 20,
   "metadata": {},
   "outputs": [
    {
     "data": {
      "text/html": [
       "<div>\n",
       "<style scoped>\n",
       "    .dataframe tbody tr th:only-of-type {\n",
       "        vertical-align: middle;\n",
       "    }\n",
       "\n",
       "    .dataframe tbody tr th {\n",
       "        vertical-align: top;\n",
       "    }\n",
       "\n",
       "    .dataframe thead th {\n",
       "        text-align: right;\n",
       "    }\n",
       "</style>\n",
       "<table border=\"1\" class=\"dataframe\">\n",
       "  <thead>\n",
       "    <tr style=\"text-align: right;\">\n",
       "      <th></th>\n",
       "      <th>A</th>\n",
       "      <th>B</th>\n",
       "      <th>C</th>\n",
       "      <th>D</th>\n",
       "    </tr>\n",
       "  </thead>\n",
       "  <tbody>\n",
       "    <tr>\n",
       "      <th>2024-07-10</th>\n",
       "      <td>-0.470699</td>\n",
       "      <td>1.062376</td>\n",
       "      <td>0.122089</td>\n",
       "      <td>-0.448934</td>\n",
       "    </tr>\n",
       "    <tr>\n",
       "      <th>2024-07-11</th>\n",
       "      <td>-1.294913</td>\n",
       "      <td>-1.388746</td>\n",
       "      <td>-0.118229</td>\n",
       "      <td>0.215380</td>\n",
       "    </tr>\n",
       "    <tr>\n",
       "      <th>2024-07-12</th>\n",
       "      <td>0.315934</td>\n",
       "      <td>0.476434</td>\n",
       "      <td>0.976290</td>\n",
       "      <td>0.180461</td>\n",
       "    </tr>\n",
       "    <tr>\n",
       "      <th>2024-07-13</th>\n",
       "      <td>-0.416269</td>\n",
       "      <td>-0.214135</td>\n",
       "      <td>0.312435</td>\n",
       "      <td>-0.858065</td>\n",
       "    </tr>\n",
       "    <tr>\n",
       "      <th>2024-07-14</th>\n",
       "      <td>1.507672</td>\n",
       "      <td>-0.980203</td>\n",
       "      <td>0.888048</td>\n",
       "      <td>1.390121</td>\n",
       "    </tr>\n",
       "  </tbody>\n",
       "</table>\n",
       "</div>"
      ],
      "text/plain": [
       "                   A         B         C         D\n",
       "2024-07-10 -0.470699  1.062376  0.122089 -0.448934\n",
       "2024-07-11 -1.294913 -1.388746 -0.118229  0.215380\n",
       "2024-07-12  0.315934  0.476434  0.976290  0.180461\n",
       "2024-07-13 -0.416269 -0.214135  0.312435 -0.858065\n",
       "2024-07-14  1.507672 -0.980203  0.888048  1.390121"
      ]
     },
     "execution_count": 20,
     "metadata": {},
     "output_type": "execute_result"
    }
   ],
   "source": [
    "# to see the last 5 rows of our data set\n",
    "dataframe.tail()"
   ]
  },
  {
   "cell_type": "code",
   "execution_count": 21,
   "metadata": {},
   "outputs": [
    {
     "data": {
      "text/plain": [
       "DatetimeIndex(['2024-07-09', '2024-07-10', '2024-07-11', '2024-07-12',\n",
       "               '2024-07-13', '2024-07-14'],\n",
       "              dtype='datetime64[ns]', freq='D')"
      ]
     },
     "execution_count": 21,
     "metadata": {},
     "output_type": "execute_result"
    }
   ],
   "source": [
    "# to check the indexes \n",
    "dataframe.index  "
   ]
  },
  {
   "cell_type": "markdown",
   "metadata": {},
   "source": [
    "If we look our dataframe dates are our indexes. As I mentioned earlier.  "
   ]
  },
  {
   "cell_type": "code",
   "execution_count": 22,
   "metadata": {},
   "outputs": [
    {
     "name": "stdout",
     "output_type": "stream",
     "text": [
      "Index([0, 1, 2, 3], dtype='int64') => : the indexes of df2.\n"
     ]
    }
   ],
   "source": [
    "# df is the short name of dataframe \n",
    "print(df2.index, \"=> : the indexes of df2.\")"
   ]
  },
  {
   "cell_type": "code",
   "execution_count": 23,
   "metadata": {},
   "outputs": [
    {
     "name": "stdout",
     "output_type": "stream",
     "text": [
      "Index([0, 1, 2, 3], dtype='int64') => : the indexes of df3.\n"
     ]
    }
   ],
   "source": [
    "print(df3.index, \"=> : the indexes of df3.\")"
   ]
  },
  {
   "cell_type": "markdown",
   "metadata": {},
   "source": [
    "- **Converting DataFrame to Numpy**"
   ]
  },
  {
   "cell_type": "code",
   "execution_count": 24,
   "metadata": {},
   "outputs": [
    {
     "name": "stdout",
     "output_type": "stream",
     "text": [
      "<bound method DataFrame.to_numpy of                    A         B         C         D\n",
      "2024-07-09 -0.058930  0.490527 -0.236268  0.132666\n",
      "2024-07-10 -0.470699  1.062376  0.122089 -0.448934\n",
      "2024-07-11 -1.294913 -1.388746 -0.118229  0.215380\n",
      "2024-07-12  0.315934  0.476434  0.976290  0.180461\n",
      "2024-07-13 -0.416269 -0.214135  0.312435 -0.858065\n",
      "2024-07-14  1.507672 -0.980203  0.888048  1.390121> : We converted the dataframe to numpy array. \n"
     ]
    }
   ],
   "source": [
    "# Now if we wish to convert our dataframe (worksheet) into Numpy array\n",
    "print(dataframe.to_numpy, \": We converted the dataframe to numpy array. \")"
   ]
  },
  {
   "cell_type": "code",
   "execution_count": 25,
   "metadata": {},
   "outputs": [
    {
     "name": "stdout",
     "output_type": "stream",
     "text": [
      "<bound method DataFrame.to_numpy of      A          B    C  D      E     F\n",
      "0  1.0 2024-07-09  1.0  3   Text  food\n",
      "1  1.0 2024-07-09  1.0  3  Train  food\n",
      "2  1.0 2024-07-09  1.0  3   Text  food\n",
      "3  1.0 2024-07-09  1.0  3  Train  food> : We converted the dataframe to numpy array. \n"
     ]
    }
   ],
   "source": [
    "print(df2.to_numpy, \": We converted the dataframe to numpy array. \")"
   ]
  },
  {
   "cell_type": "code",
   "execution_count": 26,
   "metadata": {},
   "outputs": [
    {
     "data": {
      "text/plain": [
       "array([[1.0, Timestamp('2024-07-09 00:00:00'), 1.0, 3, 'Girl',\n",
       "        'Computer'],\n",
       "       [1.0, Timestamp('2024-07-09 00:00:00'), 1.0, 3, 'Boy', 'Computer'],\n",
       "       [1.0, Timestamp('2024-07-09 00:00:00'), 1.0, 3, 'Girl',\n",
       "        'Computer'],\n",
       "       [1.0, Timestamp('2024-07-09 00:00:00'), 1.0, 3, 'Boy', 'Computer']],\n",
       "      dtype=object)"
      ]
     },
     "execution_count": 26,
     "metadata": {},
     "output_type": "execute_result"
    }
   ],
   "source": [
    "#  same as above\n",
    "df3.to_numpy()"
   ]
  },
  {
   "cell_type": "markdown",
   "metadata": {},
   "source": [
    "______\n",
    "The following command will give us **Statistical descriptions**. "
   ]
  },
  {
   "cell_type": "code",
   "execution_count": 27,
   "metadata": {},
   "outputs": [
    {
     "data": {
      "text/html": [
       "<div>\n",
       "<style scoped>\n",
       "    .dataframe tbody tr th:only-of-type {\n",
       "        vertical-align: middle;\n",
       "    }\n",
       "\n",
       "    .dataframe tbody tr th {\n",
       "        vertical-align: top;\n",
       "    }\n",
       "\n",
       "    .dataframe thead th {\n",
       "        text-align: right;\n",
       "    }\n",
       "</style>\n",
       "<table border=\"1\" class=\"dataframe\">\n",
       "  <thead>\n",
       "    <tr style=\"text-align: right;\">\n",
       "      <th></th>\n",
       "      <th>A</th>\n",
       "      <th>B</th>\n",
       "      <th>C</th>\n",
       "      <th>D</th>\n",
       "    </tr>\n",
       "  </thead>\n",
       "  <tbody>\n",
       "    <tr>\n",
       "      <th>count</th>\n",
       "      <td>6.000000</td>\n",
       "      <td>6.000000</td>\n",
       "      <td>6.000000</td>\n",
       "      <td>6.000000</td>\n",
       "    </tr>\n",
       "    <tr>\n",
       "      <th>mean</th>\n",
       "      <td>-0.069534</td>\n",
       "      <td>-0.092291</td>\n",
       "      <td>0.324061</td>\n",
       "      <td>0.101938</td>\n",
       "    </tr>\n",
       "    <tr>\n",
       "      <th>std</th>\n",
       "      <td>0.940105</td>\n",
       "      <td>0.946616</td>\n",
       "      <td>0.508724</td>\n",
       "      <td>0.762163</td>\n",
       "    </tr>\n",
       "    <tr>\n",
       "      <th>min</th>\n",
       "      <td>-1.294913</td>\n",
       "      <td>-1.388746</td>\n",
       "      <td>-0.236268</td>\n",
       "      <td>-0.858065</td>\n",
       "    </tr>\n",
       "    <tr>\n",
       "      <th>25%</th>\n",
       "      <td>-0.457092</td>\n",
       "      <td>-0.788686</td>\n",
       "      <td>-0.058150</td>\n",
       "      <td>-0.303534</td>\n",
       "    </tr>\n",
       "    <tr>\n",
       "      <th>50%</th>\n",
       "      <td>-0.237600</td>\n",
       "      <td>0.131149</td>\n",
       "      <td>0.217262</td>\n",
       "      <td>0.156564</td>\n",
       "    </tr>\n",
       "    <tr>\n",
       "      <th>75%</th>\n",
       "      <td>0.222218</td>\n",
       "      <td>0.487003</td>\n",
       "      <td>0.744145</td>\n",
       "      <td>0.206650</td>\n",
       "    </tr>\n",
       "    <tr>\n",
       "      <th>max</th>\n",
       "      <td>1.507672</td>\n",
       "      <td>1.062376</td>\n",
       "      <td>0.976290</td>\n",
       "      <td>1.390121</td>\n",
       "    </tr>\n",
       "  </tbody>\n",
       "</table>\n",
       "</div>"
      ],
      "text/plain": [
       "              A         B         C         D\n",
       "count  6.000000  6.000000  6.000000  6.000000\n",
       "mean  -0.069534 -0.092291  0.324061  0.101938\n",
       "std    0.940105  0.946616  0.508724  0.762163\n",
       "min   -1.294913 -1.388746 -0.236268 -0.858065\n",
       "25%   -0.457092 -0.788686 -0.058150 -0.303534\n",
       "50%   -0.237600  0.131149  0.217262  0.156564\n",
       "75%    0.222218  0.487003  0.744145  0.206650\n",
       "max    1.507672  1.062376  0.976290  1.390121"
      ]
     },
     "execution_count": 27,
     "metadata": {},
     "output_type": "execute_result"
    }
   ],
   "source": [
    "# if we wish to check our data statistically, then\n",
    "dataframe.describe()"
   ]
  },
  {
   "cell_type": "markdown",
   "metadata": {},
   "source": [
    "Same for the other..."
   ]
  },
  {
   "cell_type": "code",
   "execution_count": 28,
   "metadata": {},
   "outputs": [
    {
     "data": {
      "text/html": [
       "<div>\n",
       "<style scoped>\n",
       "    .dataframe tbody tr th:only-of-type {\n",
       "        vertical-align: middle;\n",
       "    }\n",
       "\n",
       "    .dataframe tbody tr th {\n",
       "        vertical-align: top;\n",
       "    }\n",
       "\n",
       "    .dataframe thead th {\n",
       "        text-align: right;\n",
       "    }\n",
       "</style>\n",
       "<table border=\"1\" class=\"dataframe\">\n",
       "  <thead>\n",
       "    <tr style=\"text-align: right;\">\n",
       "      <th></th>\n",
       "      <th>A</th>\n",
       "      <th>B</th>\n",
       "      <th>C</th>\n",
       "      <th>D</th>\n",
       "    </tr>\n",
       "  </thead>\n",
       "  <tbody>\n",
       "    <tr>\n",
       "      <th>count</th>\n",
       "      <td>4.0</td>\n",
       "      <td>4</td>\n",
       "      <td>4.0</td>\n",
       "      <td>4.0</td>\n",
       "    </tr>\n",
       "    <tr>\n",
       "      <th>mean</th>\n",
       "      <td>1.0</td>\n",
       "      <td>2024-07-09 00:00:00</td>\n",
       "      <td>1.0</td>\n",
       "      <td>3.0</td>\n",
       "    </tr>\n",
       "    <tr>\n",
       "      <th>min</th>\n",
       "      <td>1.0</td>\n",
       "      <td>2024-07-09 00:00:00</td>\n",
       "      <td>1.0</td>\n",
       "      <td>3.0</td>\n",
       "    </tr>\n",
       "    <tr>\n",
       "      <th>25%</th>\n",
       "      <td>1.0</td>\n",
       "      <td>2024-07-09 00:00:00</td>\n",
       "      <td>1.0</td>\n",
       "      <td>3.0</td>\n",
       "    </tr>\n",
       "    <tr>\n",
       "      <th>50%</th>\n",
       "      <td>1.0</td>\n",
       "      <td>2024-07-09 00:00:00</td>\n",
       "      <td>1.0</td>\n",
       "      <td>3.0</td>\n",
       "    </tr>\n",
       "    <tr>\n",
       "      <th>75%</th>\n",
       "      <td>1.0</td>\n",
       "      <td>2024-07-09 00:00:00</td>\n",
       "      <td>1.0</td>\n",
       "      <td>3.0</td>\n",
       "    </tr>\n",
       "    <tr>\n",
       "      <th>max</th>\n",
       "      <td>1.0</td>\n",
       "      <td>2024-07-09 00:00:00</td>\n",
       "      <td>1.0</td>\n",
       "      <td>3.0</td>\n",
       "    </tr>\n",
       "    <tr>\n",
       "      <th>std</th>\n",
       "      <td>0.0</td>\n",
       "      <td>NaN</td>\n",
       "      <td>0.0</td>\n",
       "      <td>0.0</td>\n",
       "    </tr>\n",
       "  </tbody>\n",
       "</table>\n",
       "</div>"
      ],
      "text/plain": [
       "         A                    B    C    D\n",
       "count  4.0                    4  4.0  4.0\n",
       "mean   1.0  2024-07-09 00:00:00  1.0  3.0\n",
       "min    1.0  2024-07-09 00:00:00  1.0  3.0\n",
       "25%    1.0  2024-07-09 00:00:00  1.0  3.0\n",
       "50%    1.0  2024-07-09 00:00:00  1.0  3.0\n",
       "75%    1.0  2024-07-09 00:00:00  1.0  3.0\n",
       "max    1.0  2024-07-09 00:00:00  1.0  3.0\n",
       "std    0.0                  NaN  0.0  0.0"
      ]
     },
     "execution_count": 28,
     "metadata": {},
     "output_type": "execute_result"
    }
   ],
   "source": [
    "df2.describe()"
   ]
  },
  {
   "cell_type": "code",
   "execution_count": 24,
   "metadata": {},
   "outputs": [
    {
     "data": {
      "text/html": [
       "<div>\n",
       "<style scoped>\n",
       "    .dataframe tbody tr th:only-of-type {\n",
       "        vertical-align: middle;\n",
       "    }\n",
       "\n",
       "    .dataframe tbody tr th {\n",
       "        vertical-align: top;\n",
       "    }\n",
       "\n",
       "    .dataframe thead th {\n",
       "        text-align: right;\n",
       "    }\n",
       "</style>\n",
       "<table border=\"1\" class=\"dataframe\">\n",
       "  <thead>\n",
       "    <tr style=\"text-align: right;\">\n",
       "      <th></th>\n",
       "      <th>A</th>\n",
       "      <th>B</th>\n",
       "      <th>C</th>\n",
       "      <th>D</th>\n",
       "    </tr>\n",
       "  </thead>\n",
       "  <tbody>\n",
       "    <tr>\n",
       "      <th>count</th>\n",
       "      <td>4.0</td>\n",
       "      <td>4</td>\n",
       "      <td>4.0</td>\n",
       "      <td>4.0</td>\n",
       "    </tr>\n",
       "    <tr>\n",
       "      <th>mean</th>\n",
       "      <td>1.0</td>\n",
       "      <td>2024-07-09 00:00:00</td>\n",
       "      <td>1.0</td>\n",
       "      <td>3.0</td>\n",
       "    </tr>\n",
       "    <tr>\n",
       "      <th>min</th>\n",
       "      <td>1.0</td>\n",
       "      <td>2024-07-09 00:00:00</td>\n",
       "      <td>1.0</td>\n",
       "      <td>3.0</td>\n",
       "    </tr>\n",
       "    <tr>\n",
       "      <th>25%</th>\n",
       "      <td>1.0</td>\n",
       "      <td>2024-07-09 00:00:00</td>\n",
       "      <td>1.0</td>\n",
       "      <td>3.0</td>\n",
       "    </tr>\n",
       "    <tr>\n",
       "      <th>50%</th>\n",
       "      <td>1.0</td>\n",
       "      <td>2024-07-09 00:00:00</td>\n",
       "      <td>1.0</td>\n",
       "      <td>3.0</td>\n",
       "    </tr>\n",
       "    <tr>\n",
       "      <th>75%</th>\n",
       "      <td>1.0</td>\n",
       "      <td>2024-07-09 00:00:00</td>\n",
       "      <td>1.0</td>\n",
       "      <td>3.0</td>\n",
       "    </tr>\n",
       "    <tr>\n",
       "      <th>max</th>\n",
       "      <td>1.0</td>\n",
       "      <td>2024-07-09 00:00:00</td>\n",
       "      <td>1.0</td>\n",
       "      <td>3.0</td>\n",
       "    </tr>\n",
       "    <tr>\n",
       "      <th>std</th>\n",
       "      <td>0.0</td>\n",
       "      <td>NaN</td>\n",
       "      <td>0.0</td>\n",
       "      <td>0.0</td>\n",
       "    </tr>\n",
       "  </tbody>\n",
       "</table>\n",
       "</div>"
      ],
      "text/plain": [
       "         A                    B    C    D\n",
       "count  4.0                    4  4.0  4.0\n",
       "mean   1.0  2024-07-09 00:00:00  1.0  3.0\n",
       "min    1.0  2024-07-09 00:00:00  1.0  3.0\n",
       "25%    1.0  2024-07-09 00:00:00  1.0  3.0\n",
       "50%    1.0  2024-07-09 00:00:00  1.0  3.0\n",
       "75%    1.0  2024-07-09 00:00:00  1.0  3.0\n",
       "max    1.0  2024-07-09 00:00:00  1.0  3.0\n",
       "std    0.0                  NaN  0.0  0.0"
      ]
     },
     "execution_count": 24,
     "metadata": {},
     "output_type": "execute_result"
    }
   ],
   "source": [
    "df3.describe()"
   ]
  },
  {
   "cell_type": "markdown",
   "metadata": {},
   "source": [
    "_________\n",
    "Some other function that can be applied on DataFrame. "
   ]
  },
  {
   "cell_type": "markdown",
   "metadata": {},
   "source": [
    "To **Transpose** the dataframe, just do the following. "
   ]
  },
  {
   "cell_type": "code",
   "execution_count": 29,
   "metadata": {},
   "outputs": [
    {
     "data": {
      "text/html": [
       "<div>\n",
       "<style scoped>\n",
       "    .dataframe tbody tr th:only-of-type {\n",
       "        vertical-align: middle;\n",
       "    }\n",
       "\n",
       "    .dataframe tbody tr th {\n",
       "        vertical-align: top;\n",
       "    }\n",
       "\n",
       "    .dataframe thead th {\n",
       "        text-align: right;\n",
       "    }\n",
       "</style>\n",
       "<table border=\"1\" class=\"dataframe\">\n",
       "  <thead>\n",
       "    <tr style=\"text-align: right;\">\n",
       "      <th></th>\n",
       "      <th>0</th>\n",
       "      <th>1</th>\n",
       "      <th>2</th>\n",
       "      <th>3</th>\n",
       "    </tr>\n",
       "  </thead>\n",
       "  <tbody>\n",
       "    <tr>\n",
       "      <th>A</th>\n",
       "      <td>1.0</td>\n",
       "      <td>1.0</td>\n",
       "      <td>1.0</td>\n",
       "      <td>1.0</td>\n",
       "    </tr>\n",
       "    <tr>\n",
       "      <th>B</th>\n",
       "      <td>2024-07-09 00:00:00</td>\n",
       "      <td>2024-07-09 00:00:00</td>\n",
       "      <td>2024-07-09 00:00:00</td>\n",
       "      <td>2024-07-09 00:00:00</td>\n",
       "    </tr>\n",
       "    <tr>\n",
       "      <th>C</th>\n",
       "      <td>1.0</td>\n",
       "      <td>1.0</td>\n",
       "      <td>1.0</td>\n",
       "      <td>1.0</td>\n",
       "    </tr>\n",
       "    <tr>\n",
       "      <th>D</th>\n",
       "      <td>3</td>\n",
       "      <td>3</td>\n",
       "      <td>3</td>\n",
       "      <td>3</td>\n",
       "    </tr>\n",
       "    <tr>\n",
       "      <th>E</th>\n",
       "      <td>Text</td>\n",
       "      <td>Train</td>\n",
       "      <td>Text</td>\n",
       "      <td>Train</td>\n",
       "    </tr>\n",
       "    <tr>\n",
       "      <th>F</th>\n",
       "      <td>food</td>\n",
       "      <td>food</td>\n",
       "      <td>food</td>\n",
       "      <td>food</td>\n",
       "    </tr>\n",
       "  </tbody>\n",
       "</table>\n",
       "</div>"
      ],
      "text/plain": [
       "                     0                    1                    2  \\\n",
       "A                  1.0                  1.0                  1.0   \n",
       "B  2024-07-09 00:00:00  2024-07-09 00:00:00  2024-07-09 00:00:00   \n",
       "C                  1.0                  1.0                  1.0   \n",
       "D                    3                    3                    3   \n",
       "E                 Text                Train                 Text   \n",
       "F                 food                 food                 food   \n",
       "\n",
       "                     3  \n",
       "A                  1.0  \n",
       "B  2024-07-09 00:00:00  \n",
       "C                  1.0  \n",
       "D                    3  \n",
       "E                Train  \n",
       "F                 food  "
      ]
     },
     "execution_count": 29,
     "metadata": {},
     "output_type": "execute_result"
    }
   ],
   "source": [
    "# transpose of the data set (row to column)\n",
    "df2.T"
   ]
  },
  {
   "cell_type": "markdown",
   "metadata": {},
   "source": [
    "To **Sorting** the dataframe, just do the following. \n"
   ]
  },
  {
   "cell_type": "code",
   "execution_count": 30,
   "metadata": {},
   "outputs": [
    {
     "data": {
      "text/html": [
       "<div>\n",
       "<style scoped>\n",
       "    .dataframe tbody tr th:only-of-type {\n",
       "        vertical-align: middle;\n",
       "    }\n",
       "\n",
       "    .dataframe tbody tr th {\n",
       "        vertical-align: top;\n",
       "    }\n",
       "\n",
       "    .dataframe thead th {\n",
       "        text-align: right;\n",
       "    }\n",
       "</style>\n",
       "<table border=\"1\" class=\"dataframe\">\n",
       "  <thead>\n",
       "    <tr style=\"text-align: right;\">\n",
       "      <th></th>\n",
       "      <th>D</th>\n",
       "      <th>C</th>\n",
       "      <th>B</th>\n",
       "      <th>A</th>\n",
       "    </tr>\n",
       "  </thead>\n",
       "  <tbody>\n",
       "    <tr>\n",
       "      <th>2024-07-09</th>\n",
       "      <td>0.132666</td>\n",
       "      <td>-0.236268</td>\n",
       "      <td>0.490527</td>\n",
       "      <td>-0.058930</td>\n",
       "    </tr>\n",
       "    <tr>\n",
       "      <th>2024-07-10</th>\n",
       "      <td>-0.448934</td>\n",
       "      <td>0.122089</td>\n",
       "      <td>1.062376</td>\n",
       "      <td>-0.470699</td>\n",
       "    </tr>\n",
       "    <tr>\n",
       "      <th>2024-07-11</th>\n",
       "      <td>0.215380</td>\n",
       "      <td>-0.118229</td>\n",
       "      <td>-1.388746</td>\n",
       "      <td>-1.294913</td>\n",
       "    </tr>\n",
       "    <tr>\n",
       "      <th>2024-07-12</th>\n",
       "      <td>0.180461</td>\n",
       "      <td>0.976290</td>\n",
       "      <td>0.476434</td>\n",
       "      <td>0.315934</td>\n",
       "    </tr>\n",
       "    <tr>\n",
       "      <th>2024-07-13</th>\n",
       "      <td>-0.858065</td>\n",
       "      <td>0.312435</td>\n",
       "      <td>-0.214135</td>\n",
       "      <td>-0.416269</td>\n",
       "    </tr>\n",
       "    <tr>\n",
       "      <th>2024-07-14</th>\n",
       "      <td>1.390121</td>\n",
       "      <td>0.888048</td>\n",
       "      <td>-0.980203</td>\n",
       "      <td>1.507672</td>\n",
       "    </tr>\n",
       "  </tbody>\n",
       "</table>\n",
       "</div>"
      ],
      "text/plain": [
       "                   D         C         B         A\n",
       "2024-07-09  0.132666 -0.236268  0.490527 -0.058930\n",
       "2024-07-10 -0.448934  0.122089  1.062376 -0.470699\n",
       "2024-07-11  0.215380 -0.118229 -1.388746 -1.294913\n",
       "2024-07-12  0.180461  0.976290  0.476434  0.315934\n",
       "2024-07-13 -0.858065  0.312435 -0.214135 -0.416269\n",
       "2024-07-14  1.390121  0.888048 -0.980203  1.507672"
      ]
     },
     "execution_count": 30,
     "metadata": {},
     "output_type": "execute_result"
    }
   ],
   "source": [
    "# sorting the data frame\n",
    "dataframe.sort_index(axis=1,ascending=False)"
   ]
  },
  {
   "cell_type": "code",
   "execution_count": 31,
   "metadata": {},
   "outputs": [
    {
     "data": {
      "text/html": [
       "<div>\n",
       "<style scoped>\n",
       "    .dataframe tbody tr th:only-of-type {\n",
       "        vertical-align: middle;\n",
       "    }\n",
       "\n",
       "    .dataframe tbody tr th {\n",
       "        vertical-align: top;\n",
       "    }\n",
       "\n",
       "    .dataframe thead th {\n",
       "        text-align: right;\n",
       "    }\n",
       "</style>\n",
       "<table border=\"1\" class=\"dataframe\">\n",
       "  <thead>\n",
       "    <tr style=\"text-align: right;\">\n",
       "      <th></th>\n",
       "      <th>A</th>\n",
       "      <th>B</th>\n",
       "      <th>C</th>\n",
       "      <th>D</th>\n",
       "    </tr>\n",
       "  </thead>\n",
       "  <tbody>\n",
       "    <tr>\n",
       "      <th>2024-07-14</th>\n",
       "      <td>1.507672</td>\n",
       "      <td>-0.980203</td>\n",
       "      <td>0.888048</td>\n",
       "      <td>1.390121</td>\n",
       "    </tr>\n",
       "    <tr>\n",
       "      <th>2024-07-13</th>\n",
       "      <td>-0.416269</td>\n",
       "      <td>-0.214135</td>\n",
       "      <td>0.312435</td>\n",
       "      <td>-0.858065</td>\n",
       "    </tr>\n",
       "    <tr>\n",
       "      <th>2024-07-12</th>\n",
       "      <td>0.315934</td>\n",
       "      <td>0.476434</td>\n",
       "      <td>0.976290</td>\n",
       "      <td>0.180461</td>\n",
       "    </tr>\n",
       "    <tr>\n",
       "      <th>2024-07-11</th>\n",
       "      <td>-1.294913</td>\n",
       "      <td>-1.388746</td>\n",
       "      <td>-0.118229</td>\n",
       "      <td>0.215380</td>\n",
       "    </tr>\n",
       "    <tr>\n",
       "      <th>2024-07-10</th>\n",
       "      <td>-0.470699</td>\n",
       "      <td>1.062376</td>\n",
       "      <td>0.122089</td>\n",
       "      <td>-0.448934</td>\n",
       "    </tr>\n",
       "    <tr>\n",
       "      <th>2024-07-09</th>\n",
       "      <td>-0.058930</td>\n",
       "      <td>0.490527</td>\n",
       "      <td>-0.236268</td>\n",
       "      <td>0.132666</td>\n",
       "    </tr>\n",
       "  </tbody>\n",
       "</table>\n",
       "</div>"
      ],
      "text/plain": [
       "                   A         B         C         D\n",
       "2024-07-14  1.507672 -0.980203  0.888048  1.390121\n",
       "2024-07-13 -0.416269 -0.214135  0.312435 -0.858065\n",
       "2024-07-12  0.315934  0.476434  0.976290  0.180461\n",
       "2024-07-11 -1.294913 -1.388746 -0.118229  0.215380\n",
       "2024-07-10 -0.470699  1.062376  0.122089 -0.448934\n",
       "2024-07-09 -0.058930  0.490527 -0.236268  0.132666"
      ]
     },
     "execution_count": 31,
     "metadata": {},
     "output_type": "execute_result"
    }
   ],
   "source": [
    "dataframe.sort_index(axis=0,ascending=False)"
   ]
  },
  {
   "cell_type": "code",
   "execution_count": 28,
   "metadata": {},
   "outputs": [
    {
     "data": {
      "text/html": [
       "<div>\n",
       "<style scoped>\n",
       "    .dataframe tbody tr th:only-of-type {\n",
       "        vertical-align: middle;\n",
       "    }\n",
       "\n",
       "    .dataframe tbody tr th {\n",
       "        vertical-align: top;\n",
       "    }\n",
       "\n",
       "    .dataframe thead th {\n",
       "        text-align: right;\n",
       "    }\n",
       "</style>\n",
       "<table border=\"1\" class=\"dataframe\">\n",
       "  <thead>\n",
       "    <tr style=\"text-align: right;\">\n",
       "      <th></th>\n",
       "      <th>A</th>\n",
       "      <th>B</th>\n",
       "      <th>C</th>\n",
       "      <th>D</th>\n",
       "    </tr>\n",
       "  </thead>\n",
       "  <tbody>\n",
       "    <tr>\n",
       "      <th>2024-07-09</th>\n",
       "      <td>-0.513459</td>\n",
       "      <td>0.037814</td>\n",
       "      <td>-0.135259</td>\n",
       "      <td>-0.261791</td>\n",
       "    </tr>\n",
       "    <tr>\n",
       "      <th>2024-07-10</th>\n",
       "      <td>-0.539776</td>\n",
       "      <td>-1.059604</td>\n",
       "      <td>-0.115131</td>\n",
       "      <td>0.444901</td>\n",
       "    </tr>\n",
       "    <tr>\n",
       "      <th>2024-07-11</th>\n",
       "      <td>1.165359</td>\n",
       "      <td>-0.684750</td>\n",
       "      <td>-0.898452</td>\n",
       "      <td>0.209869</td>\n",
       "    </tr>\n",
       "    <tr>\n",
       "      <th>2024-07-12</th>\n",
       "      <td>-1.572290</td>\n",
       "      <td>-0.271557</td>\n",
       "      <td>-2.360871</td>\n",
       "      <td>0.830212</td>\n",
       "    </tr>\n",
       "    <tr>\n",
       "      <th>2024-07-13</th>\n",
       "      <td>0.566620</td>\n",
       "      <td>-1.257953</td>\n",
       "      <td>-0.935434</td>\n",
       "      <td>-0.414092</td>\n",
       "    </tr>\n",
       "    <tr>\n",
       "      <th>2024-07-14</th>\n",
       "      <td>0.431193</td>\n",
       "      <td>-0.522250</td>\n",
       "      <td>0.658425</td>\n",
       "      <td>0.603427</td>\n",
       "    </tr>\n",
       "  </tbody>\n",
       "</table>\n",
       "</div>"
      ],
      "text/plain": [
       "                   A         B         C         D\n",
       "2024-07-09 -0.513459  0.037814 -0.135259 -0.261791\n",
       "2024-07-10 -0.539776 -1.059604 -0.115131  0.444901\n",
       "2024-07-11  1.165359 -0.684750 -0.898452  0.209869\n",
       "2024-07-12 -1.572290 -0.271557 -2.360871  0.830212\n",
       "2024-07-13  0.566620 -1.257953 -0.935434 -0.414092\n",
       "2024-07-14  0.431193 -0.522250  0.658425  0.603427"
      ]
     },
     "execution_count": 28,
     "metadata": {},
     "output_type": "execute_result"
    }
   ],
   "source": [
    "dataframe.sort_index(axis=1,ascending=True)"
   ]
  },
  {
   "cell_type": "code",
   "execution_count": 32,
   "metadata": {},
   "outputs": [
    {
     "data": {
      "text/html": [
       "<div>\n",
       "<style scoped>\n",
       "    .dataframe tbody tr th:only-of-type {\n",
       "        vertical-align: middle;\n",
       "    }\n",
       "\n",
       "    .dataframe tbody tr th {\n",
       "        vertical-align: top;\n",
       "    }\n",
       "\n",
       "    .dataframe thead th {\n",
       "        text-align: right;\n",
       "    }\n",
       "</style>\n",
       "<table border=\"1\" class=\"dataframe\">\n",
       "  <thead>\n",
       "    <tr style=\"text-align: right;\">\n",
       "      <th></th>\n",
       "      <th>A</th>\n",
       "      <th>B</th>\n",
       "      <th>C</th>\n",
       "      <th>D</th>\n",
       "    </tr>\n",
       "  </thead>\n",
       "  <tbody>\n",
       "    <tr>\n",
       "      <th>2024-07-09</th>\n",
       "      <td>-0.058930</td>\n",
       "      <td>0.490527</td>\n",
       "      <td>-0.236268</td>\n",
       "      <td>0.132666</td>\n",
       "    </tr>\n",
       "    <tr>\n",
       "      <th>2024-07-10</th>\n",
       "      <td>-0.470699</td>\n",
       "      <td>1.062376</td>\n",
       "      <td>0.122089</td>\n",
       "      <td>-0.448934</td>\n",
       "    </tr>\n",
       "    <tr>\n",
       "      <th>2024-07-11</th>\n",
       "      <td>-1.294913</td>\n",
       "      <td>-1.388746</td>\n",
       "      <td>-0.118229</td>\n",
       "      <td>0.215380</td>\n",
       "    </tr>\n",
       "    <tr>\n",
       "      <th>2024-07-12</th>\n",
       "      <td>0.315934</td>\n",
       "      <td>0.476434</td>\n",
       "      <td>0.976290</td>\n",
       "      <td>0.180461</td>\n",
       "    </tr>\n",
       "    <tr>\n",
       "      <th>2024-07-13</th>\n",
       "      <td>-0.416269</td>\n",
       "      <td>-0.214135</td>\n",
       "      <td>0.312435</td>\n",
       "      <td>-0.858065</td>\n",
       "    </tr>\n",
       "    <tr>\n",
       "      <th>2024-07-14</th>\n",
       "      <td>1.507672</td>\n",
       "      <td>-0.980203</td>\n",
       "      <td>0.888048</td>\n",
       "      <td>1.390121</td>\n",
       "    </tr>\n",
       "  </tbody>\n",
       "</table>\n",
       "</div>"
      ],
      "text/plain": [
       "                   A         B         C         D\n",
       "2024-07-09 -0.058930  0.490527 -0.236268  0.132666\n",
       "2024-07-10 -0.470699  1.062376  0.122089 -0.448934\n",
       "2024-07-11 -1.294913 -1.388746 -0.118229  0.215380\n",
       "2024-07-12  0.315934  0.476434  0.976290  0.180461\n",
       "2024-07-13 -0.416269 -0.214135  0.312435 -0.858065\n",
       "2024-07-14  1.507672 -0.980203  0.888048  1.390121"
      ]
     },
     "execution_count": 32,
     "metadata": {},
     "output_type": "execute_result"
    }
   ],
   "source": [
    "dataframe.sort_index(axis=0,ascending=True)"
   ]
  },
  {
   "cell_type": "code",
   "execution_count": 31,
   "metadata": {},
   "outputs": [
    {
     "data": {
      "text/html": [
       "<div>\n",
       "<style scoped>\n",
       "    .dataframe tbody tr th:only-of-type {\n",
       "        vertical-align: middle;\n",
       "    }\n",
       "\n",
       "    .dataframe tbody tr th {\n",
       "        vertical-align: top;\n",
       "    }\n",
       "\n",
       "    .dataframe thead th {\n",
       "        text-align: right;\n",
       "    }\n",
       "</style>\n",
       "<table border=\"1\" class=\"dataframe\">\n",
       "  <thead>\n",
       "    <tr style=\"text-align: right;\">\n",
       "      <th></th>\n",
       "      <th>A</th>\n",
       "      <th>B</th>\n",
       "      <th>C</th>\n",
       "      <th>D</th>\n",
       "    </tr>\n",
       "  </thead>\n",
       "  <tbody>\n",
       "    <tr>\n",
       "      <th>2024-07-09</th>\n",
       "      <td>-0.513459</td>\n",
       "      <td>0.037814</td>\n",
       "      <td>-0.135259</td>\n",
       "      <td>-0.261791</td>\n",
       "    </tr>\n",
       "    <tr>\n",
       "      <th>2024-07-12</th>\n",
       "      <td>-1.572290</td>\n",
       "      <td>-0.271557</td>\n",
       "      <td>-2.360871</td>\n",
       "      <td>0.830212</td>\n",
       "    </tr>\n",
       "    <tr>\n",
       "      <th>2024-07-14</th>\n",
       "      <td>0.431193</td>\n",
       "      <td>-0.522250</td>\n",
       "      <td>0.658425</td>\n",
       "      <td>0.603427</td>\n",
       "    </tr>\n",
       "    <tr>\n",
       "      <th>2024-07-11</th>\n",
       "      <td>1.165359</td>\n",
       "      <td>-0.684750</td>\n",
       "      <td>-0.898452</td>\n",
       "      <td>0.209869</td>\n",
       "    </tr>\n",
       "    <tr>\n",
       "      <th>2024-07-10</th>\n",
       "      <td>-0.539776</td>\n",
       "      <td>-1.059604</td>\n",
       "      <td>-0.115131</td>\n",
       "      <td>0.444901</td>\n",
       "    </tr>\n",
       "    <tr>\n",
       "      <th>2024-07-13</th>\n",
       "      <td>0.566620</td>\n",
       "      <td>-1.257953</td>\n",
       "      <td>-0.935434</td>\n",
       "      <td>-0.414092</td>\n",
       "    </tr>\n",
       "  </tbody>\n",
       "</table>\n",
       "</div>"
      ],
      "text/plain": [
       "                   A         B         C         D\n",
       "2024-07-09 -0.513459  0.037814 -0.135259 -0.261791\n",
       "2024-07-12 -1.572290 -0.271557 -2.360871  0.830212\n",
       "2024-07-14  0.431193 -0.522250  0.658425  0.603427\n",
       "2024-07-11  1.165359 -0.684750 -0.898452  0.209869\n",
       "2024-07-10 -0.539776 -1.059604 -0.115131  0.444901\n",
       "2024-07-13  0.566620 -1.257953 -0.935434 -0.414092"
      ]
     },
     "execution_count": 31,
     "metadata": {},
     "output_type": "execute_result"
    }
   ],
   "source": [
    "# sorting values by specific columns\n",
    "dataframe.sort_values(by=\"B\", ascending=False)"
   ]
  },
  {
   "cell_type": "markdown",
   "metadata": {},
   "source": [
    "You have seen the magic of the sorting function. Hpefully got the idea...\n",
    "____"
   ]
  },
  {
   "cell_type": "markdown",
   "metadata": {},
   "source": [
    "- _**Filteration:**_\n",
    "Selecting **Specific column/s** in the dataframe"
   ]
  },
  {
   "cell_type": "code",
   "execution_count": 33,
   "metadata": {},
   "outputs": [
    {
     "data": {
      "text/plain": [
       "2024-07-09   -0.058930\n",
       "2024-07-10   -0.470699\n",
       "2024-07-11   -1.294913\n",
       "2024-07-12    0.315934\n",
       "2024-07-13   -0.416269\n",
       "2024-07-14    1.507672\n",
       "Freq: D, Name: A, dtype: float64"
      ]
     },
     "execution_count": 33,
     "metadata": {},
     "output_type": "execute_result"
    }
   ],
   "source": [
    "# to select single column by name\n",
    "dataframe[\"A\"]   # same for all others, it is also called filtration."
   ]
  },
  {
   "cell_type": "code",
   "execution_count": 34,
   "metadata": {},
   "outputs": [
    {
     "data": {
      "text/html": [
       "<div>\n",
       "<style scoped>\n",
       "    .dataframe tbody tr th:only-of-type {\n",
       "        vertical-align: middle;\n",
       "    }\n",
       "\n",
       "    .dataframe tbody tr th {\n",
       "        vertical-align: top;\n",
       "    }\n",
       "\n",
       "    .dataframe thead th {\n",
       "        text-align: right;\n",
       "    }\n",
       "</style>\n",
       "<table border=\"1\" class=\"dataframe\">\n",
       "  <thead>\n",
       "    <tr style=\"text-align: right;\">\n",
       "      <th></th>\n",
       "      <th>A</th>\n",
       "      <th>B</th>\n",
       "      <th>C</th>\n",
       "      <th>D</th>\n",
       "    </tr>\n",
       "  </thead>\n",
       "  <tbody>\n",
       "    <tr>\n",
       "      <th>2024-07-09</th>\n",
       "      <td>-0.058930</td>\n",
       "      <td>0.490527</td>\n",
       "      <td>-0.236268</td>\n",
       "      <td>0.132666</td>\n",
       "    </tr>\n",
       "    <tr>\n",
       "      <th>2024-07-10</th>\n",
       "      <td>-0.470699</td>\n",
       "      <td>1.062376</td>\n",
       "      <td>0.122089</td>\n",
       "      <td>-0.448934</td>\n",
       "    </tr>\n",
       "    <tr>\n",
       "      <th>2024-07-11</th>\n",
       "      <td>-1.294913</td>\n",
       "      <td>-1.388746</td>\n",
       "      <td>-0.118229</td>\n",
       "      <td>0.215380</td>\n",
       "    </tr>\n",
       "  </tbody>\n",
       "</table>\n",
       "</div>"
      ],
      "text/plain": [
       "                   A         B         C         D\n",
       "2024-07-09 -0.058930  0.490527 -0.236268  0.132666\n",
       "2024-07-10 -0.470699  1.062376  0.122089 -0.448934\n",
       "2024-07-11 -1.294913 -1.388746 -0.118229  0.215380"
      ]
     },
     "execution_count": 34,
     "metadata": {},
     "output_type": "execute_result"
    }
   ],
   "source": [
    "# Row wise selection \n",
    "dataframe[0:3]   # first 3 rows  [from:to]"
   ]
  },
  {
   "cell_type": "code",
   "execution_count": 35,
   "metadata": {},
   "outputs": [
    {
     "data": {
      "text/html": [
       "<div>\n",
       "<style scoped>\n",
       "    .dataframe tbody tr th:only-of-type {\n",
       "        vertical-align: middle;\n",
       "    }\n",
       "\n",
       "    .dataframe tbody tr th {\n",
       "        vertical-align: top;\n",
       "    }\n",
       "\n",
       "    .dataframe thead th {\n",
       "        text-align: right;\n",
       "    }\n",
       "</style>\n",
       "<table border=\"1\" class=\"dataframe\">\n",
       "  <thead>\n",
       "    <tr style=\"text-align: right;\">\n",
       "      <th></th>\n",
       "      <th>A</th>\n",
       "      <th>B</th>\n",
       "      <th>C</th>\n",
       "      <th>D</th>\n",
       "    </tr>\n",
       "  </thead>\n",
       "  <tbody>\n",
       "    <tr>\n",
       "      <th>2024-07-09</th>\n",
       "      <td>-0.058930</td>\n",
       "      <td>0.490527</td>\n",
       "      <td>-0.236268</td>\n",
       "      <td>0.132666</td>\n",
       "    </tr>\n",
       "    <tr>\n",
       "      <th>2024-07-10</th>\n",
       "      <td>-0.470699</td>\n",
       "      <td>1.062376</td>\n",
       "      <td>0.122089</td>\n",
       "      <td>-0.448934</td>\n",
       "    </tr>\n",
       "  </tbody>\n",
       "</table>\n",
       "</div>"
      ],
      "text/plain": [
       "                   A         B         C         D\n",
       "2024-07-09 -0.058930  0.490527 -0.236268  0.132666\n",
       "2024-07-10 -0.470699  1.062376  0.122089 -0.448934"
      ]
     },
     "execution_count": 35,
     "metadata": {},
     "output_type": "execute_result"
    }
   ],
   "source": [
    "# Row wise selection \n",
    "dataframe[0:2]   # first 2 rows  [from:to]"
   ]
  },
  {
   "cell_type": "code",
   "execution_count": 36,
   "metadata": {},
   "outputs": [
    {
     "data": {
      "text/plain": [
       "A   -0.058930\n",
       "B    0.490527\n",
       "C   -0.236268\n",
       "D    0.132666\n",
       "Name: 2024-07-09 00:00:00, dtype: float64"
      ]
     },
     "execution_count": 36,
     "metadata": {},
     "output_type": "execute_result"
    }
   ],
   "source": [
    "# select by labels/. Headings\n",
    "dataframe.loc[dates[0]]    # it will give us dates column data"
   ]
  },
  {
   "cell_type": "code",
   "execution_count": 37,
   "metadata": {},
   "outputs": [
    {
     "data": {
      "text/html": [
       "<div>\n",
       "<style scoped>\n",
       "    .dataframe tbody tr th:only-of-type {\n",
       "        vertical-align: middle;\n",
       "    }\n",
       "\n",
       "    .dataframe tbody tr th {\n",
       "        vertical-align: top;\n",
       "    }\n",
       "\n",
       "    .dataframe thead th {\n",
       "        text-align: right;\n",
       "    }\n",
       "</style>\n",
       "<table border=\"1\" class=\"dataframe\">\n",
       "  <thead>\n",
       "    <tr style=\"text-align: right;\">\n",
       "      <th></th>\n",
       "      <th>A</th>\n",
       "      <th>B</th>\n",
       "    </tr>\n",
       "  </thead>\n",
       "  <tbody>\n",
       "    <tr>\n",
       "      <th>2024-07-09</th>\n",
       "      <td>-0.058930</td>\n",
       "      <td>0.490527</td>\n",
       "    </tr>\n",
       "    <tr>\n",
       "      <th>2024-07-10</th>\n",
       "      <td>-0.470699</td>\n",
       "      <td>1.062376</td>\n",
       "    </tr>\n",
       "    <tr>\n",
       "      <th>2024-07-11</th>\n",
       "      <td>-1.294913</td>\n",
       "      <td>-1.388746</td>\n",
       "    </tr>\n",
       "    <tr>\n",
       "      <th>2024-07-12</th>\n",
       "      <td>0.315934</td>\n",
       "      <td>0.476434</td>\n",
       "    </tr>\n",
       "    <tr>\n",
       "      <th>2024-07-13</th>\n",
       "      <td>-0.416269</td>\n",
       "      <td>-0.214135</td>\n",
       "    </tr>\n",
       "    <tr>\n",
       "      <th>2024-07-14</th>\n",
       "      <td>1.507672</td>\n",
       "      <td>-0.980203</td>\n",
       "    </tr>\n",
       "  </tbody>\n",
       "</table>\n",
       "</div>"
      ],
      "text/plain": [
       "                   A         B\n",
       "2024-07-09 -0.058930  0.490527\n",
       "2024-07-10 -0.470699  1.062376\n",
       "2024-07-11 -1.294913 -1.388746\n",
       "2024-07-12  0.315934  0.476434\n",
       "2024-07-13 -0.416269 -0.214135\n",
       "2024-07-14  1.507672 -0.980203"
      ]
     },
     "execution_count": 37,
     "metadata": {},
     "output_type": "execute_result"
    }
   ],
   "source": [
    "dataframe.loc[:,[\"A\",\"B\"]]   # (:)all rows and [columns A and B]"
   ]
  },
  {
   "cell_type": "code",
   "execution_count": 38,
   "metadata": {},
   "outputs": [
    {
     "data": {
      "text/html": [
       "<div>\n",
       "<style scoped>\n",
       "    .dataframe tbody tr th:only-of-type {\n",
       "        vertical-align: middle;\n",
       "    }\n",
       "\n",
       "    .dataframe tbody tr th {\n",
       "        vertical-align: top;\n",
       "    }\n",
       "\n",
       "    .dataframe thead th {\n",
       "        text-align: right;\n",
       "    }\n",
       "</style>\n",
       "<table border=\"1\" class=\"dataframe\">\n",
       "  <thead>\n",
       "    <tr style=\"text-align: right;\">\n",
       "      <th></th>\n",
       "      <th>A</th>\n",
       "      <th>B</th>\n",
       "    </tr>\n",
       "  </thead>\n",
       "  <tbody>\n",
       "    <tr>\n",
       "      <th>2024-07-09</th>\n",
       "      <td>-0.058930</td>\n",
       "      <td>0.490527</td>\n",
       "    </tr>\n",
       "    <tr>\n",
       "      <th>2024-07-10</th>\n",
       "      <td>-0.470699</td>\n",
       "      <td>1.062376</td>\n",
       "    </tr>\n",
       "    <tr>\n",
       "      <th>2024-07-11</th>\n",
       "      <td>-1.294913</td>\n",
       "      <td>-1.388746</td>\n",
       "    </tr>\n",
       "  </tbody>\n",
       "</table>\n",
       "</div>"
      ],
      "text/plain": [
       "                   A         B\n",
       "2024-07-09 -0.058930  0.490527\n",
       "2024-07-10 -0.470699  1.062376\n",
       "2024-07-11 -1.294913 -1.388746"
      ]
     },
     "execution_count": 38,
     "metadata": {},
     "output_type": "execute_result"
    }
   ],
   "source": [
    "dataframe.loc[\"20240709\" : \"20240711\",[\"A\",\"B\"]]   # it will take data from dates to dates from column A and B. "
   ]
  },
  {
   "cell_type": "markdown",
   "metadata": {},
   "source": [
    "**(from : to)   ....    (this  ,  this) **"
   ]
  },
  {
   "cell_type": "code",
   "execution_count": 39,
   "metadata": {},
   "outputs": [
    {
     "data": {
      "text/html": [
       "<div>\n",
       "<style scoped>\n",
       "    .dataframe tbody tr th:only-of-type {\n",
       "        vertical-align: middle;\n",
       "    }\n",
       "\n",
       "    .dataframe tbody tr th {\n",
       "        vertical-align: top;\n",
       "    }\n",
       "\n",
       "    .dataframe thead th {\n",
       "        text-align: right;\n",
       "    }\n",
       "</style>\n",
       "<table border=\"1\" class=\"dataframe\">\n",
       "  <thead>\n",
       "    <tr style=\"text-align: right;\">\n",
       "      <th></th>\n",
       "      <th>A</th>\n",
       "      <th>B</th>\n",
       "      <th>C</th>\n",
       "    </tr>\n",
       "  </thead>\n",
       "  <tbody>\n",
       "    <tr>\n",
       "      <th>2024-07-09</th>\n",
       "      <td>-0.058930</td>\n",
       "      <td>0.490527</td>\n",
       "      <td>-0.236268</td>\n",
       "    </tr>\n",
       "    <tr>\n",
       "      <th>2024-07-10</th>\n",
       "      <td>-0.470699</td>\n",
       "      <td>1.062376</td>\n",
       "      <td>0.122089</td>\n",
       "    </tr>\n",
       "    <tr>\n",
       "      <th>2024-07-11</th>\n",
       "      <td>-1.294913</td>\n",
       "      <td>-1.388746</td>\n",
       "      <td>-0.118229</td>\n",
       "    </tr>\n",
       "  </tbody>\n",
       "</table>\n",
       "</div>"
      ],
      "text/plain": [
       "                   A         B         C\n",
       "2024-07-09 -0.058930  0.490527 -0.236268\n",
       "2024-07-10 -0.470699  1.062376  0.122089\n",
       "2024-07-11 -1.294913 -1.388746 -0.118229"
      ]
     },
     "execution_count": 39,
     "metadata": {},
     "output_type": "execute_result"
    }
   ],
   "source": [
    "# we can add column as \n",
    "dataframe.loc[\"20240709\" : \"20240711\",[\"A\",\"B\",\"C\"]]"
   ]
  },
  {
   "cell_type": "code",
   "execution_count": 40,
   "metadata": {},
   "outputs": [
    {
     "data": {
      "text/plain": [
       "-0.05892995961241362"
      ]
     },
     "execution_count": 40,
     "metadata": {},
     "output_type": "execute_result"
    }
   ],
   "source": [
    "# to access a specified item through index # it will take data from datas at zero index of column A. \n",
    "dataframe.at[dates[0],\"A\"]   "
   ]
  },
  {
   "cell_type": "markdown",
   "metadata": {},
   "source": [
    "Which can be confirmed from the above last table... "
   ]
  },
  {
   "cell_type": "code",
   "execution_count": 41,
   "metadata": {},
   "outputs": [
    {
     "data": {
      "text/plain": [
       "-1.294912743959064"
      ]
     },
     "execution_count": 41,
     "metadata": {},
     "output_type": "execute_result"
    }
   ],
   "source": [
    "dataframe.at[dates[2],\"A\"]   # it will take data from datas at 5 index of column A. "
   ]
  },
  {
   "cell_type": "markdown",
   "metadata": {},
   "source": [
    "You can confirm from the last table in column A. Last item of Column A. "
   ]
  },
  {
   "cell_type": "code",
   "execution_count": 42,
   "metadata": {},
   "outputs": [
    {
     "data": {
      "text/plain": [
       "A   -1.294913\n",
       "B   -1.388746\n",
       "C   -0.118229\n",
       "D    0.215380\n",
       "Name: 2024-07-11 00:00:00, dtype: float64"
      ]
     },
     "execution_count": 42,
     "metadata": {},
     "output_type": "execute_result"
    }
   ],
   "source": [
    "dataframe.iloc[2]   # it will take rwo-wise data from index two, look at the above last table. \n",
    "# It will be displayed in column format. "
   ]
  },
  {
   "cell_type": "code",
   "execution_count": 43,
   "metadata": {},
   "outputs": [
    {
     "data": {
      "text/html": [
       "<div>\n",
       "<style scoped>\n",
       "    .dataframe tbody tr th:only-of-type {\n",
       "        vertical-align: middle;\n",
       "    }\n",
       "\n",
       "    .dataframe tbody tr th {\n",
       "        vertical-align: top;\n",
       "    }\n",
       "\n",
       "    .dataframe thead th {\n",
       "        text-align: right;\n",
       "    }\n",
       "</style>\n",
       "<table border=\"1\" class=\"dataframe\">\n",
       "  <thead>\n",
       "    <tr style=\"text-align: right;\">\n",
       "      <th></th>\n",
       "      <th>A</th>\n",
       "      <th>B</th>\n",
       "      <th>C</th>\n",
       "      <th>D</th>\n",
       "    </tr>\n",
       "  </thead>\n",
       "  <tbody>\n",
       "    <tr>\n",
       "      <th>2024-07-12</th>\n",
       "      <td>0.315934</td>\n",
       "      <td>0.476434</td>\n",
       "      <td>0.976290</td>\n",
       "      <td>0.180461</td>\n",
       "    </tr>\n",
       "    <tr>\n",
       "      <th>2024-07-13</th>\n",
       "      <td>-0.416269</td>\n",
       "      <td>-0.214135</td>\n",
       "      <td>0.312435</td>\n",
       "      <td>-0.858065</td>\n",
       "    </tr>\n",
       "    <tr>\n",
       "      <th>2024-07-14</th>\n",
       "      <td>1.507672</td>\n",
       "      <td>-0.980203</td>\n",
       "      <td>0.888048</td>\n",
       "      <td>1.390121</td>\n",
       "    </tr>\n",
       "  </tbody>\n",
       "</table>\n",
       "</div>"
      ],
      "text/plain": [
       "                   A         B         C         D\n",
       "2024-07-12  0.315934  0.476434  0.976290  0.180461\n",
       "2024-07-13 -0.416269 -0.214135  0.312435 -0.858065\n",
       "2024-07-14  1.507672 -0.980203  0.888048  1.390121"
      ]
     },
     "execution_count": 43,
     "metadata": {},
     "output_type": "execute_result"
    }
   ],
   "source": [
    "dataframe.iloc[3:7]   # it will return the data from index 3 to index 6. \n",
    "# We entered index 7 which is not present in our data. \n",
    "# So it return the last indexed values from all columns. "
   ]
  },
  {
   "cell_type": "code",
   "execution_count": 45,
   "metadata": {},
   "outputs": [
    {
     "data": {
      "text/html": [
       "<div>\n",
       "<style scoped>\n",
       "    .dataframe tbody tr th:only-of-type {\n",
       "        vertical-align: middle;\n",
       "    }\n",
       "\n",
       "    .dataframe tbody tr th {\n",
       "        vertical-align: top;\n",
       "    }\n",
       "\n",
       "    .dataframe thead th {\n",
       "        text-align: right;\n",
       "    }\n",
       "</style>\n",
       "<table border=\"1\" class=\"dataframe\">\n",
       "  <thead>\n",
       "    <tr style=\"text-align: right;\">\n",
       "      <th></th>\n",
       "      <th>A</th>\n",
       "      <th>B</th>\n",
       "      <th>C</th>\n",
       "      <th>D</th>\n",
       "    </tr>\n",
       "  </thead>\n",
       "  <tbody>\n",
       "    <tr>\n",
       "      <th>2024-07-09</th>\n",
       "      <td>-0.058930</td>\n",
       "      <td>0.490527</td>\n",
       "      <td>-0.236268</td>\n",
       "      <td>0.132666</td>\n",
       "    </tr>\n",
       "    <tr>\n",
       "      <th>2024-07-10</th>\n",
       "      <td>-0.470699</td>\n",
       "      <td>1.062376</td>\n",
       "      <td>0.122089</td>\n",
       "      <td>-0.448934</td>\n",
       "    </tr>\n",
       "    <tr>\n",
       "      <th>2024-07-11</th>\n",
       "      <td>-1.294913</td>\n",
       "      <td>-1.388746</td>\n",
       "      <td>-0.118229</td>\n",
       "      <td>0.215380</td>\n",
       "    </tr>\n",
       "    <tr>\n",
       "      <th>2024-07-12</th>\n",
       "      <td>0.315934</td>\n",
       "      <td>0.476434</td>\n",
       "      <td>0.976290</td>\n",
       "      <td>0.180461</td>\n",
       "    </tr>\n",
       "    <tr>\n",
       "      <th>2024-07-13</th>\n",
       "      <td>-0.416269</td>\n",
       "      <td>-0.214135</td>\n",
       "      <td>0.312435</td>\n",
       "      <td>-0.858065</td>\n",
       "    </tr>\n",
       "  </tbody>\n",
       "</table>\n",
       "</div>"
      ],
      "text/plain": [
       "                   A         B         C         D\n",
       "2024-07-09 -0.058930  0.490527 -0.236268  0.132666\n",
       "2024-07-10 -0.470699  1.062376  0.122089 -0.448934\n",
       "2024-07-11 -1.294913 -1.388746 -0.118229  0.215380\n",
       "2024-07-12  0.315934  0.476434  0.976290  0.180461\n",
       "2024-07-13 -0.416269 -0.214135  0.312435 -0.858065"
      ]
     },
     "execution_count": 45,
     "metadata": {},
     "output_type": "execute_result"
    }
   ],
   "source": [
    "dataframe.iloc[0:5,0:15]"
   ]
  },
  {
   "cell_type": "code",
   "execution_count": 46,
   "metadata": {},
   "outputs": [
    {
     "data": {
      "text/html": [
       "<div>\n",
       "<style scoped>\n",
       "    .dataframe tbody tr th:only-of-type {\n",
       "        vertical-align: middle;\n",
       "    }\n",
       "\n",
       "    .dataframe tbody tr th {\n",
       "        vertical-align: top;\n",
       "    }\n",
       "\n",
       "    .dataframe thead th {\n",
       "        text-align: right;\n",
       "    }\n",
       "</style>\n",
       "<table border=\"1\" class=\"dataframe\">\n",
       "  <thead>\n",
       "    <tr style=\"text-align: right;\">\n",
       "      <th></th>\n",
       "      <th>A</th>\n",
       "      <th>B</th>\n",
       "      <th>C</th>\n",
       "    </tr>\n",
       "  </thead>\n",
       "  <tbody>\n",
       "    <tr>\n",
       "      <th>2024-07-09</th>\n",
       "      <td>-0.058930</td>\n",
       "      <td>0.490527</td>\n",
       "      <td>-0.236268</td>\n",
       "    </tr>\n",
       "    <tr>\n",
       "      <th>2024-07-10</th>\n",
       "      <td>-0.470699</td>\n",
       "      <td>1.062376</td>\n",
       "      <td>0.122089</td>\n",
       "    </tr>\n",
       "    <tr>\n",
       "      <th>2024-07-11</th>\n",
       "      <td>-1.294913</td>\n",
       "      <td>-1.388746</td>\n",
       "      <td>-0.118229</td>\n",
       "    </tr>\n",
       "    <tr>\n",
       "      <th>2024-07-12</th>\n",
       "      <td>0.315934</td>\n",
       "      <td>0.476434</td>\n",
       "      <td>0.976290</td>\n",
       "    </tr>\n",
       "    <tr>\n",
       "      <th>2024-07-13</th>\n",
       "      <td>-0.416269</td>\n",
       "      <td>-0.214135</td>\n",
       "      <td>0.312435</td>\n",
       "    </tr>\n",
       "  </tbody>\n",
       "</table>\n",
       "</div>"
      ],
      "text/plain": [
       "                   A         B         C\n",
       "2024-07-09 -0.058930  0.490527 -0.236268\n",
       "2024-07-10 -0.470699  1.062376  0.122089\n",
       "2024-07-11 -1.294913 -1.388746 -0.118229\n",
       "2024-07-12  0.315934  0.476434  0.976290\n",
       "2024-07-13 -0.416269 -0.214135  0.312435"
      ]
     },
     "execution_count": 46,
     "metadata": {},
     "output_type": "execute_result"
    }
   ],
   "source": [
    "dataframe.iloc[0:5,0:3]"
   ]
  },
  {
   "cell_type": "code",
   "execution_count": 47,
   "metadata": {},
   "outputs": [
    {
     "data": {
      "text/html": [
       "<div>\n",
       "<style scoped>\n",
       "    .dataframe tbody tr th:only-of-type {\n",
       "        vertical-align: middle;\n",
       "    }\n",
       "\n",
       "    .dataframe tbody tr th {\n",
       "        vertical-align: top;\n",
       "    }\n",
       "\n",
       "    .dataframe thead th {\n",
       "        text-align: right;\n",
       "    }\n",
       "</style>\n",
       "<table border=\"1\" class=\"dataframe\">\n",
       "  <thead>\n",
       "    <tr style=\"text-align: right;\">\n",
       "      <th></th>\n",
       "      <th>A</th>\n",
       "      <th>B</th>\n",
       "      <th>C</th>\n",
       "      <th>D</th>\n",
       "    </tr>\n",
       "  </thead>\n",
       "  <tbody>\n",
       "    <tr>\n",
       "      <th>2024-07-09</th>\n",
       "      <td>-0.058930</td>\n",
       "      <td>0.490527</td>\n",
       "      <td>-0.236268</td>\n",
       "      <td>0.132666</td>\n",
       "    </tr>\n",
       "    <tr>\n",
       "      <th>2024-07-10</th>\n",
       "      <td>-0.470699</td>\n",
       "      <td>1.062376</td>\n",
       "      <td>0.122089</td>\n",
       "      <td>-0.448934</td>\n",
       "    </tr>\n",
       "    <tr>\n",
       "      <th>2024-07-11</th>\n",
       "      <td>-1.294913</td>\n",
       "      <td>-1.388746</td>\n",
       "      <td>-0.118229</td>\n",
       "      <td>0.215380</td>\n",
       "    </tr>\n",
       "    <tr>\n",
       "      <th>2024-07-12</th>\n",
       "      <td>0.315934</td>\n",
       "      <td>0.476434</td>\n",
       "      <td>0.976290</td>\n",
       "      <td>0.180461</td>\n",
       "    </tr>\n",
       "    <tr>\n",
       "      <th>2024-07-13</th>\n",
       "      <td>-0.416269</td>\n",
       "      <td>-0.214135</td>\n",
       "      <td>0.312435</td>\n",
       "      <td>-0.858065</td>\n",
       "    </tr>\n",
       "  </tbody>\n",
       "</table>\n",
       "</div>"
      ],
      "text/plain": [
       "                   A         B         C         D\n",
       "2024-07-09 -0.058930  0.490527 -0.236268  0.132666\n",
       "2024-07-10 -0.470699  1.062376  0.122089 -0.448934\n",
       "2024-07-11 -1.294913 -1.388746 -0.118229  0.215380\n",
       "2024-07-12  0.315934  0.476434  0.976290  0.180461\n",
       "2024-07-13 -0.416269 -0.214135  0.312435 -0.858065"
      ]
     },
     "execution_count": 47,
     "metadata": {},
     "output_type": "execute_result"
    }
   ],
   "source": [
    "dataframe.iloc[0:5,:]    # [from : to , : all columns]"
   ]
  },
  {
   "cell_type": "code",
   "execution_count": 48,
   "metadata": {},
   "outputs": [
    {
     "data": {
      "text/html": [
       "<div>\n",
       "<style scoped>\n",
       "    .dataframe tbody tr th:only-of-type {\n",
       "        vertical-align: middle;\n",
       "    }\n",
       "\n",
       "    .dataframe tbody tr th {\n",
       "        vertical-align: top;\n",
       "    }\n",
       "\n",
       "    .dataframe thead th {\n",
       "        text-align: right;\n",
       "    }\n",
       "</style>\n",
       "<table border=\"1\" class=\"dataframe\">\n",
       "  <thead>\n",
       "    <tr style=\"text-align: right;\">\n",
       "      <th></th>\n",
       "      <th>A</th>\n",
       "      <th>B</th>\n",
       "    </tr>\n",
       "  </thead>\n",
       "  <tbody>\n",
       "    <tr>\n",
       "      <th>2024-07-09</th>\n",
       "      <td>-0.058930</td>\n",
       "      <td>0.490527</td>\n",
       "    </tr>\n",
       "    <tr>\n",
       "      <th>2024-07-10</th>\n",
       "      <td>-0.470699</td>\n",
       "      <td>1.062376</td>\n",
       "    </tr>\n",
       "    <tr>\n",
       "      <th>2024-07-11</th>\n",
       "      <td>-1.294913</td>\n",
       "      <td>-1.388746</td>\n",
       "    </tr>\n",
       "    <tr>\n",
       "      <th>2024-07-12</th>\n",
       "      <td>0.315934</td>\n",
       "      <td>0.476434</td>\n",
       "    </tr>\n",
       "    <tr>\n",
       "      <th>2024-07-13</th>\n",
       "      <td>-0.416269</td>\n",
       "      <td>-0.214135</td>\n",
       "    </tr>\n",
       "    <tr>\n",
       "      <th>2024-07-14</th>\n",
       "      <td>1.507672</td>\n",
       "      <td>-0.980203</td>\n",
       "    </tr>\n",
       "  </tbody>\n",
       "</table>\n",
       "</div>"
      ],
      "text/plain": [
       "                   A         B\n",
       "2024-07-09 -0.058930  0.490527\n",
       "2024-07-10 -0.470699  1.062376\n",
       "2024-07-11 -1.294913 -1.388746\n",
       "2024-07-12  0.315934  0.476434\n",
       "2024-07-13 -0.416269 -0.214135\n",
       "2024-07-14  1.507672 -0.980203"
      ]
     },
     "execution_count": 48,
     "metadata": {},
     "output_type": "execute_result"
    }
   ],
   "source": [
    "dataframe.iloc[:,0:2]    # [: all rows ,  from : to]"
   ]
  },
  {
   "cell_type": "code",
   "execution_count": 49,
   "metadata": {},
   "outputs": [
    {
     "data": {
      "text/html": [
       "<div>\n",
       "<style scoped>\n",
       "    .dataframe tbody tr th:only-of-type {\n",
       "        vertical-align: middle;\n",
       "    }\n",
       "\n",
       "    .dataframe tbody tr th {\n",
       "        vertical-align: top;\n",
       "    }\n",
       "\n",
       "    .dataframe thead th {\n",
       "        text-align: right;\n",
       "    }\n",
       "</style>\n",
       "<table border=\"1\" class=\"dataframe\">\n",
       "  <thead>\n",
       "    <tr style=\"text-align: right;\">\n",
       "      <th></th>\n",
       "      <th>A</th>\n",
       "      <th>B</th>\n",
       "      <th>C</th>\n",
       "      <th>D</th>\n",
       "    </tr>\n",
       "  </thead>\n",
       "  <tbody>\n",
       "    <tr>\n",
       "      <th>2024-07-12</th>\n",
       "      <td>0.315934</td>\n",
       "      <td>0.476434</td>\n",
       "      <td>0.976290</td>\n",
       "      <td>0.180461</td>\n",
       "    </tr>\n",
       "    <tr>\n",
       "      <th>2024-07-14</th>\n",
       "      <td>1.507672</td>\n",
       "      <td>-0.980203</td>\n",
       "      <td>0.888048</td>\n",
       "      <td>1.390121</td>\n",
       "    </tr>\n",
       "  </tbody>\n",
       "</table>\n",
       "</div>"
      ],
      "text/plain": [
       "                   A         B         C         D\n",
       "2024-07-12  0.315934  0.476434  0.976290  0.180461\n",
       "2024-07-14  1.507672 -0.980203  0.888048  1.390121"
      ]
     },
     "execution_count": 49,
     "metadata": {},
     "output_type": "execute_result"
    }
   ],
   "source": [
    "# filtering the values \n",
    "dataframe[dataframe[\"A\"]>0]   # we have taken greater than zeros values in column A"
   ]
  },
  {
   "cell_type": "code",
   "execution_count": 50,
   "metadata": {},
   "outputs": [
    {
     "data": {
      "text/html": [
       "<div>\n",
       "<style scoped>\n",
       "    .dataframe tbody tr th:only-of-type {\n",
       "        vertical-align: middle;\n",
       "    }\n",
       "\n",
       "    .dataframe tbody tr th {\n",
       "        vertical-align: top;\n",
       "    }\n",
       "\n",
       "    .dataframe thead th {\n",
       "        text-align: right;\n",
       "    }\n",
       "</style>\n",
       "<table border=\"1\" class=\"dataframe\">\n",
       "  <thead>\n",
       "    <tr style=\"text-align: right;\">\n",
       "      <th></th>\n",
       "      <th>A</th>\n",
       "      <th>B</th>\n",
       "      <th>C</th>\n",
       "      <th>D</th>\n",
       "    </tr>\n",
       "  </thead>\n",
       "  <tbody>\n",
       "    <tr>\n",
       "      <th>2024-07-14</th>\n",
       "      <td>1.507672</td>\n",
       "      <td>-0.980203</td>\n",
       "      <td>0.888048</td>\n",
       "      <td>1.390121</td>\n",
       "    </tr>\n",
       "  </tbody>\n",
       "</table>\n",
       "</div>"
      ],
      "text/plain": [
       "                   A         B         C         D\n",
       "2024-07-14  1.507672 -0.980203  0.888048  1.390121"
      ]
     },
     "execution_count": 50,
     "metadata": {},
     "output_type": "execute_result"
    }
   ],
   "source": [
    "dataframe[dataframe[\"A\"]>1.1]      # consider only column A"
   ]
  },
  {
   "cell_type": "code",
   "execution_count": 51,
   "metadata": {},
   "outputs": [
    {
     "data": {
      "text/html": [
       "<div>\n",
       "<style scoped>\n",
       "    .dataframe tbody tr th:only-of-type {\n",
       "        vertical-align: middle;\n",
       "    }\n",
       "\n",
       "    .dataframe tbody tr th {\n",
       "        vertical-align: top;\n",
       "    }\n",
       "\n",
       "    .dataframe thead th {\n",
       "        text-align: right;\n",
       "    }\n",
       "</style>\n",
       "<table border=\"1\" class=\"dataframe\">\n",
       "  <thead>\n",
       "    <tr style=\"text-align: right;\">\n",
       "      <th></th>\n",
       "      <th>A</th>\n",
       "      <th>B</th>\n",
       "      <th>C</th>\n",
       "      <th>D</th>\n",
       "    </tr>\n",
       "  </thead>\n",
       "  <tbody>\n",
       "  </tbody>\n",
       "</table>\n",
       "</div>"
      ],
      "text/plain": [
       "Empty DataFrame\n",
       "Columns: [A, B, C, D]\n",
       "Index: []"
      ]
     },
     "execution_count": 51,
     "metadata": {},
     "output_type": "execute_result"
    }
   ],
   "source": [
    "dataframe[dataframe[\"B\"]>1.2]    # Consider only column B. Column B have no values greater than 1.2."
   ]
  },
  {
   "cell_type": "code",
   "execution_count": 52,
   "metadata": {},
   "outputs": [
    {
     "data": {
      "text/html": [
       "<div>\n",
       "<style scoped>\n",
       "    .dataframe tbody tr th:only-of-type {\n",
       "        vertical-align: middle;\n",
       "    }\n",
       "\n",
       "    .dataframe tbody tr th {\n",
       "        vertical-align: top;\n",
       "    }\n",
       "\n",
       "    .dataframe thead th {\n",
       "        text-align: right;\n",
       "    }\n",
       "</style>\n",
       "<table border=\"1\" class=\"dataframe\">\n",
       "  <thead>\n",
       "    <tr style=\"text-align: right;\">\n",
       "      <th></th>\n",
       "      <th>A</th>\n",
       "      <th>B</th>\n",
       "      <th>C</th>\n",
       "      <th>D</th>\n",
       "    </tr>\n",
       "  </thead>\n",
       "  <tbody>\n",
       "    <tr>\n",
       "      <th>2024-07-09</th>\n",
       "      <td>NaN</td>\n",
       "      <td>NaN</td>\n",
       "      <td>NaN</td>\n",
       "      <td>NaN</td>\n",
       "    </tr>\n",
       "    <tr>\n",
       "      <th>2024-07-10</th>\n",
       "      <td>NaN</td>\n",
       "      <td>1.062376</td>\n",
       "      <td>NaN</td>\n",
       "      <td>NaN</td>\n",
       "    </tr>\n",
       "    <tr>\n",
       "      <th>2024-07-11</th>\n",
       "      <td>NaN</td>\n",
       "      <td>NaN</td>\n",
       "      <td>NaN</td>\n",
       "      <td>NaN</td>\n",
       "    </tr>\n",
       "    <tr>\n",
       "      <th>2024-07-12</th>\n",
       "      <td>NaN</td>\n",
       "      <td>NaN</td>\n",
       "      <td>NaN</td>\n",
       "      <td>NaN</td>\n",
       "    </tr>\n",
       "    <tr>\n",
       "      <th>2024-07-13</th>\n",
       "      <td>NaN</td>\n",
       "      <td>NaN</td>\n",
       "      <td>NaN</td>\n",
       "      <td>NaN</td>\n",
       "    </tr>\n",
       "    <tr>\n",
       "      <th>2024-07-14</th>\n",
       "      <td>1.507672</td>\n",
       "      <td>NaN</td>\n",
       "      <td>NaN</td>\n",
       "      <td>1.390121</td>\n",
       "    </tr>\n",
       "  </tbody>\n",
       "</table>\n",
       "</div>"
      ],
      "text/plain": [
       "                   A         B   C         D\n",
       "2024-07-09       NaN       NaN NaN       NaN\n",
       "2024-07-10       NaN  1.062376 NaN       NaN\n",
       "2024-07-11       NaN       NaN NaN       NaN\n",
       "2024-07-12       NaN       NaN NaN       NaN\n",
       "2024-07-13       NaN       NaN NaN       NaN\n",
       "2024-07-14  1.507672       NaN NaN  1.390121"
      ]
     },
     "execution_count": 52,
     "metadata": {},
     "output_type": "execute_result"
    }
   ],
   "source": [
    "# for complete dataframe, either all the values greater than zero 1. \n",
    "df3=dataframe[dataframe>1]\n",
    "df3"
   ]
  },
  {
   "cell_type": "code",
   "execution_count": 53,
   "metadata": {},
   "outputs": [
    {
     "data": {
      "text/html": [
       "<div>\n",
       "<style scoped>\n",
       "    .dataframe tbody tr th:only-of-type {\n",
       "        vertical-align: middle;\n",
       "    }\n",
       "\n",
       "    .dataframe tbody tr th {\n",
       "        vertical-align: top;\n",
       "    }\n",
       "\n",
       "    .dataframe thead th {\n",
       "        text-align: right;\n",
       "    }\n",
       "</style>\n",
       "<table border=\"1\" class=\"dataframe\">\n",
       "  <thead>\n",
       "    <tr style=\"text-align: right;\">\n",
       "      <th></th>\n",
       "      <th>A</th>\n",
       "      <th>B</th>\n",
       "      <th>C</th>\n",
       "      <th>D</th>\n",
       "    </tr>\n",
       "  </thead>\n",
       "  <tbody>\n",
       "    <tr>\n",
       "      <th>2024-07-09</th>\n",
       "      <td>NaN</td>\n",
       "      <td>0.490527</td>\n",
       "      <td>NaN</td>\n",
       "      <td>0.132666</td>\n",
       "    </tr>\n",
       "    <tr>\n",
       "      <th>2024-07-10</th>\n",
       "      <td>NaN</td>\n",
       "      <td>1.062376</td>\n",
       "      <td>0.122089</td>\n",
       "      <td>NaN</td>\n",
       "    </tr>\n",
       "    <tr>\n",
       "      <th>2024-07-11</th>\n",
       "      <td>NaN</td>\n",
       "      <td>NaN</td>\n",
       "      <td>NaN</td>\n",
       "      <td>0.215380</td>\n",
       "    </tr>\n",
       "    <tr>\n",
       "      <th>2024-07-12</th>\n",
       "      <td>0.315934</td>\n",
       "      <td>0.476434</td>\n",
       "      <td>0.976290</td>\n",
       "      <td>0.180461</td>\n",
       "    </tr>\n",
       "    <tr>\n",
       "      <th>2024-07-13</th>\n",
       "      <td>NaN</td>\n",
       "      <td>NaN</td>\n",
       "      <td>0.312435</td>\n",
       "      <td>NaN</td>\n",
       "    </tr>\n",
       "    <tr>\n",
       "      <th>2024-07-14</th>\n",
       "      <td>1.507672</td>\n",
       "      <td>NaN</td>\n",
       "      <td>0.888048</td>\n",
       "      <td>1.390121</td>\n",
       "    </tr>\n",
       "  </tbody>\n",
       "</table>\n",
       "</div>"
      ],
      "text/plain": [
       "                   A         B         C         D\n",
       "2024-07-09       NaN  0.490527       NaN  0.132666\n",
       "2024-07-10       NaN  1.062376  0.122089       NaN\n",
       "2024-07-11       NaN       NaN       NaN  0.215380\n",
       "2024-07-12  0.315934  0.476434  0.976290  0.180461\n",
       "2024-07-13       NaN       NaN  0.312435       NaN\n",
       "2024-07-14  1.507672       NaN  0.888048  1.390121"
      ]
     },
     "execution_count": 53,
     "metadata": {},
     "output_type": "execute_result"
    }
   ],
   "source": [
    "df4=dataframe[dataframe>0]\n",
    "df4"
   ]
  },
  {
   "cell_type": "markdown",
   "metadata": {},
   "source": [
    "Missing Values in Between are represented as NaN. Here NaN show where the condition got false. "
   ]
  },
  {
   "cell_type": "code",
   "execution_count": 54,
   "metadata": {},
   "outputs": [
    {
     "data": {
      "text/html": [
       "<div>\n",
       "<style scoped>\n",
       "    .dataframe tbody tr th:only-of-type {\n",
       "        vertical-align: middle;\n",
       "    }\n",
       "\n",
       "    .dataframe tbody tr th {\n",
       "        vertical-align: top;\n",
       "    }\n",
       "\n",
       "    .dataframe thead th {\n",
       "        text-align: right;\n",
       "    }\n",
       "</style>\n",
       "<table border=\"1\" class=\"dataframe\">\n",
       "  <thead>\n",
       "    <tr style=\"text-align: right;\">\n",
       "      <th></th>\n",
       "      <th>A</th>\n",
       "      <th>B</th>\n",
       "      <th>C</th>\n",
       "      <th>D</th>\n",
       "    </tr>\n",
       "  </thead>\n",
       "  <tbody>\n",
       "    <tr>\n",
       "      <th>2024-07-09</th>\n",
       "      <td>NaN</td>\n",
       "      <td>0.490527</td>\n",
       "      <td>NaN</td>\n",
       "      <td>0.132666</td>\n",
       "    </tr>\n",
       "    <tr>\n",
       "      <th>2024-07-10</th>\n",
       "      <td>NaN</td>\n",
       "      <td>1.062376</td>\n",
       "      <td>0.122089</td>\n",
       "      <td>NaN</td>\n",
       "    </tr>\n",
       "    <tr>\n",
       "      <th>2024-07-11</th>\n",
       "      <td>NaN</td>\n",
       "      <td>NaN</td>\n",
       "      <td>NaN</td>\n",
       "      <td>0.215380</td>\n",
       "    </tr>\n",
       "    <tr>\n",
       "      <th>2024-07-12</th>\n",
       "      <td>0.315934</td>\n",
       "      <td>0.476434</td>\n",
       "      <td>0.976290</td>\n",
       "      <td>0.180461</td>\n",
       "    </tr>\n",
       "    <tr>\n",
       "      <th>2024-07-13</th>\n",
       "      <td>NaN</td>\n",
       "      <td>NaN</td>\n",
       "      <td>0.312435</td>\n",
       "      <td>NaN</td>\n",
       "    </tr>\n",
       "    <tr>\n",
       "      <th>2024-07-14</th>\n",
       "      <td>1.507672</td>\n",
       "      <td>NaN</td>\n",
       "      <td>0.888048</td>\n",
       "      <td>1.390121</td>\n",
       "    </tr>\n",
       "  </tbody>\n",
       "</table>\n",
       "</div>"
      ],
      "text/plain": [
       "                   A         B         C         D\n",
       "2024-07-09       NaN  0.490527       NaN  0.132666\n",
       "2024-07-10       NaN  1.062376  0.122089       NaN\n",
       "2024-07-11       NaN       NaN       NaN  0.215380\n",
       "2024-07-12  0.315934  0.476434  0.976290  0.180461\n",
       "2024-07-13       NaN       NaN  0.312435       NaN\n",
       "2024-07-14  1.507672       NaN  0.888048  1.390121"
      ]
     },
     "execution_count": 54,
     "metadata": {},
     "output_type": "execute_result"
    }
   ],
   "source": [
    "# copy of dataframe 4. \n",
    "df5=df4.copy()\n",
    "df5\n",
    "# You can verify the result. "
   ]
  },
  {
   "cell_type": "code",
   "execution_count": 55,
   "metadata": {},
   "outputs": [
    {
     "data": {
      "text/html": [
       "<div>\n",
       "<style scoped>\n",
       "    .dataframe tbody tr th:only-of-type {\n",
       "        vertical-align: middle;\n",
       "    }\n",
       "\n",
       "    .dataframe tbody tr th {\n",
       "        vertical-align: top;\n",
       "    }\n",
       "\n",
       "    .dataframe thead th {\n",
       "        text-align: right;\n",
       "    }\n",
       "</style>\n",
       "<table border=\"1\" class=\"dataframe\">\n",
       "  <thead>\n",
       "    <tr style=\"text-align: right;\">\n",
       "      <th></th>\n",
       "      <th>A</th>\n",
       "      <th>B</th>\n",
       "      <th>C</th>\n",
       "      <th>D</th>\n",
       "    </tr>\n",
       "  </thead>\n",
       "  <tbody>\n",
       "    <tr>\n",
       "      <th>2024-07-09</th>\n",
       "      <td>NaN</td>\n",
       "      <td>0.490527</td>\n",
       "      <td>NaN</td>\n",
       "      <td>0.132666</td>\n",
       "    </tr>\n",
       "    <tr>\n",
       "      <th>2024-07-10</th>\n",
       "      <td>NaN</td>\n",
       "      <td>1.062376</td>\n",
       "      <td>0.122089</td>\n",
       "      <td>NaN</td>\n",
       "    </tr>\n",
       "    <tr>\n",
       "      <th>2024-07-11</th>\n",
       "      <td>NaN</td>\n",
       "      <td>NaN</td>\n",
       "      <td>NaN</td>\n",
       "      <td>0.215380</td>\n",
       "    </tr>\n",
       "    <tr>\n",
       "      <th>2024-07-12</th>\n",
       "      <td>0.315934</td>\n",
       "      <td>0.476434</td>\n",
       "      <td>0.976290</td>\n",
       "      <td>0.180461</td>\n",
       "    </tr>\n",
       "    <tr>\n",
       "      <th>2024-07-13</th>\n",
       "      <td>NaN</td>\n",
       "      <td>NaN</td>\n",
       "      <td>0.312435</td>\n",
       "      <td>NaN</td>\n",
       "    </tr>\n",
       "    <tr>\n",
       "      <th>2024-07-14</th>\n",
       "      <td>1.507672</td>\n",
       "      <td>NaN</td>\n",
       "      <td>0.888048</td>\n",
       "      <td>1.390121</td>\n",
       "    </tr>\n",
       "  </tbody>\n",
       "</table>\n",
       "</div>"
      ],
      "text/plain": [
       "                   A         B         C         D\n",
       "2024-07-09       NaN  0.490527       NaN  0.132666\n",
       "2024-07-10       NaN  1.062376  0.122089       NaN\n",
       "2024-07-11       NaN       NaN       NaN  0.215380\n",
       "2024-07-12  0.315934  0.476434  0.976290  0.180461\n",
       "2024-07-13       NaN       NaN  0.312435       NaN\n",
       "2024-07-14  1.507672       NaN  0.888048  1.390121"
      ]
     },
     "execution_count": 55,
     "metadata": {},
     "output_type": "execute_result"
    }
   ],
   "source": [
    "df4   # Again verified"
   ]
  },
  {
   "cell_type": "markdown",
   "metadata": {},
   "source": [
    "- **Adding New Column to Existing DataFrame**"
   ]
  },
  {
   "cell_type": "code",
   "execution_count": 56,
   "metadata": {},
   "outputs": [
    {
     "data": {
      "text/html": [
       "<div>\n",
       "<style scoped>\n",
       "    .dataframe tbody tr th:only-of-type {\n",
       "        vertical-align: middle;\n",
       "    }\n",
       "\n",
       "    .dataframe tbody tr th {\n",
       "        vertical-align: top;\n",
       "    }\n",
       "\n",
       "    .dataframe thead th {\n",
       "        text-align: right;\n",
       "    }\n",
       "</style>\n",
       "<table border=\"1\" class=\"dataframe\">\n",
       "  <thead>\n",
       "    <tr style=\"text-align: right;\">\n",
       "      <th></th>\n",
       "      <th>A</th>\n",
       "      <th>B</th>\n",
       "      <th>C</th>\n",
       "      <th>D</th>\n",
       "      <th>mean</th>\n",
       "    </tr>\n",
       "  </thead>\n",
       "  <tbody>\n",
       "    <tr>\n",
       "      <th>2024-07-09</th>\n",
       "      <td>NaN</td>\n",
       "      <td>0.490527</td>\n",
       "      <td>NaN</td>\n",
       "      <td>0.132666</td>\n",
       "      <td>0.981054</td>\n",
       "    </tr>\n",
       "    <tr>\n",
       "      <th>2024-07-10</th>\n",
       "      <td>NaN</td>\n",
       "      <td>1.062376</td>\n",
       "      <td>0.122089</td>\n",
       "      <td>NaN</td>\n",
       "      <td>2.124751</td>\n",
       "    </tr>\n",
       "    <tr>\n",
       "      <th>2024-07-11</th>\n",
       "      <td>NaN</td>\n",
       "      <td>NaN</td>\n",
       "      <td>NaN</td>\n",
       "      <td>0.215380</td>\n",
       "      <td>NaN</td>\n",
       "    </tr>\n",
       "    <tr>\n",
       "      <th>2024-07-12</th>\n",
       "      <td>0.315934</td>\n",
       "      <td>0.476434</td>\n",
       "      <td>0.976290</td>\n",
       "      <td>0.180461</td>\n",
       "      <td>0.952867</td>\n",
       "    </tr>\n",
       "    <tr>\n",
       "      <th>2024-07-13</th>\n",
       "      <td>NaN</td>\n",
       "      <td>NaN</td>\n",
       "      <td>0.312435</td>\n",
       "      <td>NaN</td>\n",
       "      <td>NaN</td>\n",
       "    </tr>\n",
       "    <tr>\n",
       "      <th>2024-07-14</th>\n",
       "      <td>1.507672</td>\n",
       "      <td>NaN</td>\n",
       "      <td>0.888048</td>\n",
       "      <td>1.390121</td>\n",
       "      <td>NaN</td>\n",
       "    </tr>\n",
       "  </tbody>\n",
       "</table>\n",
       "</div>"
      ],
      "text/plain": [
       "                   A         B         C         D      mean\n",
       "2024-07-09       NaN  0.490527       NaN  0.132666  0.981054\n",
       "2024-07-10       NaN  1.062376  0.122089       NaN  2.124751\n",
       "2024-07-11       NaN       NaN       NaN  0.215380       NaN\n",
       "2024-07-12  0.315934  0.476434  0.976290  0.180461  0.952867\n",
       "2024-07-13       NaN       NaN  0.312435       NaN       NaN\n",
       "2024-07-14  1.507672       NaN  0.888048  1.390121       NaN"
      ]
     },
     "execution_count": 56,
     "metadata": {},
     "output_type": "execute_result"
    }
   ],
   "source": [
    "# now to add column \n",
    "df4[\"mean\"] = df4[\"B\"] * 2\n",
    "df4"
   ]
  },
  {
   "cell_type": "code",
   "execution_count": 57,
   "metadata": {},
   "outputs": [
    {
     "name": "stdout",
     "output_type": "stream",
     "text": [
      "                   A         B         C         D      mean\n",
      "2024-07-09       NaN  0.490527       NaN  0.132666  0.981054\n",
      "2024-07-10       NaN  1.062376  0.122089       NaN  2.124751\n",
      "2024-07-11       NaN       NaN       NaN  0.215380       NaN\n",
      "2024-07-12  0.315934  0.476434  0.976290  0.180461  0.952867\n",
      "2024-07-13       NaN       NaN  0.312435       NaN       NaN\n",
      "2024-07-14  1.507672       NaN  0.888048  1.390121       NaN : Added new column with name 'Mean' from multiplying 2 with column B\n",
      "We see many NaN terms in mean, something multiplied with 0 got 0 or with NaN got NaN.\n"
     ]
    }
   ],
   "source": [
    "# repeated the above again\n",
    "\n",
    "# now to add column \n",
    "df4[\"mean\"] = df4[\"B\"] * 2\n",
    "print(df4, \": Added new column with name 'Mean' from multiplying 2 with column B\")\n",
    "print(\"We see many NaN terms in mean, something multiplied with 0 got 0 or with NaN got NaN.\")"
   ]
  },
  {
   "cell_type": "code",
   "execution_count": 58,
   "metadata": {},
   "outputs": [
    {
     "data": {
      "text/html": [
       "<div>\n",
       "<style scoped>\n",
       "    .dataframe tbody tr th:only-of-type {\n",
       "        vertical-align: middle;\n",
       "    }\n",
       "\n",
       "    .dataframe tbody tr th {\n",
       "        vertical-align: top;\n",
       "    }\n",
       "\n",
       "    .dataframe thead th {\n",
       "        text-align: right;\n",
       "    }\n",
       "</style>\n",
       "<table border=\"1\" class=\"dataframe\">\n",
       "  <thead>\n",
       "    <tr style=\"text-align: right;\">\n",
       "      <th></th>\n",
       "      <th>A</th>\n",
       "      <th>B</th>\n",
       "      <th>C</th>\n",
       "      <th>D</th>\n",
       "      <th>mean</th>\n",
       "    </tr>\n",
       "  </thead>\n",
       "  <tbody>\n",
       "    <tr>\n",
       "      <th>2024-07-09</th>\n",
       "      <td>NaN</td>\n",
       "      <td>0.490527</td>\n",
       "      <td>NaN</td>\n",
       "      <td>0.132666</td>\n",
       "      <td>0.588632</td>\n",
       "    </tr>\n",
       "    <tr>\n",
       "      <th>2024-07-10</th>\n",
       "      <td>NaN</td>\n",
       "      <td>1.062376</td>\n",
       "      <td>0.122089</td>\n",
       "      <td>NaN</td>\n",
       "      <td>1.274851</td>\n",
       "    </tr>\n",
       "    <tr>\n",
       "      <th>2024-07-11</th>\n",
       "      <td>NaN</td>\n",
       "      <td>NaN</td>\n",
       "      <td>NaN</td>\n",
       "      <td>0.215380</td>\n",
       "      <td>NaN</td>\n",
       "    </tr>\n",
       "    <tr>\n",
       "      <th>2024-07-12</th>\n",
       "      <td>0.315934</td>\n",
       "      <td>0.476434</td>\n",
       "      <td>0.976290</td>\n",
       "      <td>0.180461</td>\n",
       "      <td>0.571720</td>\n",
       "    </tr>\n",
       "    <tr>\n",
       "      <th>2024-07-13</th>\n",
       "      <td>NaN</td>\n",
       "      <td>NaN</td>\n",
       "      <td>0.312435</td>\n",
       "      <td>NaN</td>\n",
       "      <td>NaN</td>\n",
       "    </tr>\n",
       "    <tr>\n",
       "      <th>2024-07-14</th>\n",
       "      <td>1.507672</td>\n",
       "      <td>NaN</td>\n",
       "      <td>0.888048</td>\n",
       "      <td>1.390121</td>\n",
       "      <td>NaN</td>\n",
       "    </tr>\n",
       "  </tbody>\n",
       "</table>\n",
       "</div>"
      ],
      "text/plain": [
       "                   A         B         C         D      mean\n",
       "2024-07-09       NaN  0.490527       NaN  0.132666  0.588632\n",
       "2024-07-10       NaN  1.062376  0.122089       NaN  1.274851\n",
       "2024-07-11       NaN       NaN       NaN  0.215380       NaN\n",
       "2024-07-12  0.315934  0.476434  0.976290  0.180461  0.571720\n",
       "2024-07-13       NaN       NaN  0.312435       NaN       NaN\n",
       "2024-07-14  1.507672       NaN  0.888048  1.390121       NaN"
      ]
     },
     "execution_count": 58,
     "metadata": {},
     "output_type": "execute_result"
    }
   ],
   "source": [
    "df4[\"mean\"] = df4[\"B\"] * 1.2\n",
    "df4"
   ]
  },
  {
   "cell_type": "code",
   "execution_count": 59,
   "metadata": {},
   "outputs": [
    {
     "data": {
      "text/html": [
       "<div>\n",
       "<style scoped>\n",
       "    .dataframe tbody tr th:only-of-type {\n",
       "        vertical-align: middle;\n",
       "    }\n",
       "\n",
       "    .dataframe tbody tr th {\n",
       "        vertical-align: top;\n",
       "    }\n",
       "\n",
       "    .dataframe thead th {\n",
       "        text-align: right;\n",
       "    }\n",
       "</style>\n",
       "<table border=\"1\" class=\"dataframe\">\n",
       "  <thead>\n",
       "    <tr style=\"text-align: right;\">\n",
       "      <th></th>\n",
       "      <th>A</th>\n",
       "      <th>B</th>\n",
       "      <th>C</th>\n",
       "      <th>D</th>\n",
       "      <th>mean</th>\n",
       "    </tr>\n",
       "  </thead>\n",
       "  <tbody>\n",
       "    <tr>\n",
       "      <th>2024-07-09</th>\n",
       "      <td>NaN</td>\n",
       "      <td>0.490527</td>\n",
       "      <td>NaN</td>\n",
       "      <td>0.132666</td>\n",
       "      <td>0.588632</td>\n",
       "    </tr>\n",
       "    <tr>\n",
       "      <th>2024-07-10</th>\n",
       "      <td>NaN</td>\n",
       "      <td>1.062376</td>\n",
       "      <td>0.122089</td>\n",
       "      <td>NaN</td>\n",
       "      <td>1.274851</td>\n",
       "    </tr>\n",
       "    <tr>\n",
       "      <th>2024-07-11</th>\n",
       "      <td>NaN</td>\n",
       "      <td>NaN</td>\n",
       "      <td>NaN</td>\n",
       "      <td>0.215380</td>\n",
       "      <td>NaN</td>\n",
       "    </tr>\n",
       "    <tr>\n",
       "      <th>2024-07-12</th>\n",
       "      <td>0.315934</td>\n",
       "      <td>0.476434</td>\n",
       "      <td>0.976290</td>\n",
       "      <td>0.180461</td>\n",
       "      <td>0.571720</td>\n",
       "    </tr>\n",
       "    <tr>\n",
       "      <th>2024-07-13</th>\n",
       "      <td>NaN</td>\n",
       "      <td>NaN</td>\n",
       "      <td>0.312435</td>\n",
       "      <td>NaN</td>\n",
       "      <td>NaN</td>\n",
       "    </tr>\n",
       "    <tr>\n",
       "      <th>2024-07-14</th>\n",
       "      <td>1.507672</td>\n",
       "      <td>NaN</td>\n",
       "      <td>0.888048</td>\n",
       "      <td>1.390121</td>\n",
       "      <td>NaN</td>\n",
       "    </tr>\n",
       "  </tbody>\n",
       "</table>\n",
       "</div>"
      ],
      "text/plain": [
       "                   A         B         C         D      mean\n",
       "2024-07-09       NaN  0.490527       NaN  0.132666  0.588632\n",
       "2024-07-10       NaN  1.062376  0.122089       NaN  1.274851\n",
       "2024-07-11       NaN       NaN       NaN  0.215380       NaN\n",
       "2024-07-12  0.315934  0.476434  0.976290  0.180461  0.571720\n",
       "2024-07-13       NaN       NaN  0.312435       NaN       NaN\n",
       "2024-07-14  1.507672       NaN  0.888048  1.390121       NaN"
      ]
     },
     "execution_count": 59,
     "metadata": {},
     "output_type": "execute_result"
    }
   ],
   "source": [
    "df4"
   ]
  },
  {
   "cell_type": "code",
   "execution_count": 60,
   "metadata": {},
   "outputs": [
    {
     "data": {
      "text/html": [
       "<div>\n",
       "<style scoped>\n",
       "    .dataframe tbody tr th:only-of-type {\n",
       "        vertical-align: middle;\n",
       "    }\n",
       "\n",
       "    .dataframe tbody tr th {\n",
       "        vertical-align: top;\n",
       "    }\n",
       "\n",
       "    .dataframe thead th {\n",
       "        text-align: right;\n",
       "    }\n",
       "</style>\n",
       "<table border=\"1\" class=\"dataframe\">\n",
       "  <thead>\n",
       "    <tr style=\"text-align: right;\">\n",
       "      <th></th>\n",
       "      <th>A</th>\n",
       "      <th>B</th>\n",
       "      <th>C</th>\n",
       "      <th>D</th>\n",
       "      <th>mean</th>\n",
       "    </tr>\n",
       "  </thead>\n",
       "  <tbody>\n",
       "    <tr>\n",
       "      <th>2024-07-09</th>\n",
       "      <td>NaN</td>\n",
       "      <td>0.490527</td>\n",
       "      <td>NaN</td>\n",
       "      <td>0.132666</td>\n",
       "      <td>1.332666</td>\n",
       "    </tr>\n",
       "    <tr>\n",
       "      <th>2024-07-10</th>\n",
       "      <td>NaN</td>\n",
       "      <td>1.062376</td>\n",
       "      <td>0.122089</td>\n",
       "      <td>NaN</td>\n",
       "      <td>NaN</td>\n",
       "    </tr>\n",
       "    <tr>\n",
       "      <th>2024-07-11</th>\n",
       "      <td>NaN</td>\n",
       "      <td>NaN</td>\n",
       "      <td>NaN</td>\n",
       "      <td>0.215380</td>\n",
       "      <td>1.415380</td>\n",
       "    </tr>\n",
       "    <tr>\n",
       "      <th>2024-07-12</th>\n",
       "      <td>0.315934</td>\n",
       "      <td>0.476434</td>\n",
       "      <td>0.976290</td>\n",
       "      <td>0.180461</td>\n",
       "      <td>1.380461</td>\n",
       "    </tr>\n",
       "    <tr>\n",
       "      <th>2024-07-13</th>\n",
       "      <td>NaN</td>\n",
       "      <td>NaN</td>\n",
       "      <td>0.312435</td>\n",
       "      <td>NaN</td>\n",
       "      <td>NaN</td>\n",
       "    </tr>\n",
       "    <tr>\n",
       "      <th>2024-07-14</th>\n",
       "      <td>1.507672</td>\n",
       "      <td>NaN</td>\n",
       "      <td>0.888048</td>\n",
       "      <td>1.390121</td>\n",
       "      <td>2.590121</td>\n",
       "    </tr>\n",
       "  </tbody>\n",
       "</table>\n",
       "</div>"
      ],
      "text/plain": [
       "                   A         B         C         D      mean\n",
       "2024-07-09       NaN  0.490527       NaN  0.132666  1.332666\n",
       "2024-07-10       NaN  1.062376  0.122089       NaN       NaN\n",
       "2024-07-11       NaN       NaN       NaN  0.215380  1.415380\n",
       "2024-07-12  0.315934  0.476434  0.976290  0.180461  1.380461\n",
       "2024-07-13       NaN       NaN  0.312435       NaN       NaN\n",
       "2024-07-14  1.507672       NaN  0.888048  1.390121  2.590121"
      ]
     },
     "execution_count": 60,
     "metadata": {},
     "output_type": "execute_result"
    }
   ],
   "source": [
    "df4[\"mean\"] = df4[\"D\"] + 1.2\n",
    "df4"
   ]
  },
  {
   "cell_type": "markdown",
   "metadata": {},
   "source": [
    "Consider Column B and Add 1.2 with each corresponding term terms we got mean. You can Verify.  "
   ]
  },
  {
   "cell_type": "code",
   "execution_count": 67,
   "metadata": {},
   "outputs": [
    {
     "data": {
      "text/html": [
       "<div>\n",
       "<style scoped>\n",
       "    .dataframe tbody tr th:only-of-type {\n",
       "        vertical-align: middle;\n",
       "    }\n",
       "\n",
       "    .dataframe tbody tr th {\n",
       "        vertical-align: top;\n",
       "    }\n",
       "\n",
       "    .dataframe thead th {\n",
       "        text-align: right;\n",
       "    }\n",
       "</style>\n",
       "<table border=\"1\" class=\"dataframe\">\n",
       "  <thead>\n",
       "    <tr style=\"text-align: right;\">\n",
       "      <th></th>\n",
       "      <th>A</th>\n",
       "      <th>B</th>\n",
       "      <th>C</th>\n",
       "      <th>D</th>\n",
       "      <th>mean</th>\n",
       "      <th>New</th>\n",
       "    </tr>\n",
       "  </thead>\n",
       "  <tbody>\n",
       "    <tr>\n",
       "      <th>2024-07-09</th>\n",
       "      <td>NaN</td>\n",
       "      <td>0.490527</td>\n",
       "      <td>NaN</td>\n",
       "      <td>0.132666</td>\n",
       "      <td>1.332666</td>\n",
       "      <td>1.2</td>\n",
       "    </tr>\n",
       "    <tr>\n",
       "      <th>2024-07-10</th>\n",
       "      <td>NaN</td>\n",
       "      <td>1.062376</td>\n",
       "      <td>0.122089</td>\n",
       "      <td>NaN</td>\n",
       "      <td>NaN</td>\n",
       "      <td>4.5</td>\n",
       "    </tr>\n",
       "    <tr>\n",
       "      <th>2024-07-11</th>\n",
       "      <td>NaN</td>\n",
       "      <td>NaN</td>\n",
       "      <td>NaN</td>\n",
       "      <td>0.215380</td>\n",
       "      <td>1.415380</td>\n",
       "      <td>7.0</td>\n",
       "    </tr>\n",
       "    <tr>\n",
       "      <th>2024-07-12</th>\n",
       "      <td>0.315934</td>\n",
       "      <td>0.476434</td>\n",
       "      <td>0.976290</td>\n",
       "      <td>0.180461</td>\n",
       "      <td>1.380461</td>\n",
       "      <td>8.0</td>\n",
       "    </tr>\n",
       "    <tr>\n",
       "      <th>2024-07-13</th>\n",
       "      <td>NaN</td>\n",
       "      <td>NaN</td>\n",
       "      <td>0.312435</td>\n",
       "      <td>NaN</td>\n",
       "      <td>NaN</td>\n",
       "      <td>0.2</td>\n",
       "    </tr>\n",
       "    <tr>\n",
       "      <th>2024-07-14</th>\n",
       "      <td>1.507672</td>\n",
       "      <td>NaN</td>\n",
       "      <td>0.888048</td>\n",
       "      <td>1.390121</td>\n",
       "      <td>2.590121</td>\n",
       "      <td>7.0</td>\n",
       "    </tr>\n",
       "  </tbody>\n",
       "</table>\n",
       "</div>"
      ],
      "text/plain": [
       "                   A         B         C         D      mean  New\n",
       "2024-07-09       NaN  0.490527       NaN  0.132666  1.332666  1.2\n",
       "2024-07-10       NaN  1.062376  0.122089       NaN       NaN  4.5\n",
       "2024-07-11       NaN       NaN       NaN  0.215380  1.415380  7.0\n",
       "2024-07-12  0.315934  0.476434  0.976290  0.180461  1.380461  8.0\n",
       "2024-07-13       NaN       NaN  0.312435       NaN       NaN  0.2\n",
       "2024-07-14  1.507672       NaN  0.888048  1.390121  2.590121  7.0"
      ]
     },
     "execution_count": 67,
     "metadata": {},
     "output_type": "execute_result"
    }
   ],
   "source": [
    "import numpy as np\n",
    "# create a list of values\n",
    "# create a new column with the specified values\n",
    "new_column = np.array([1.2, 4.5, 7, 8, 0.2, 7])\n",
    "\n",
    "# add the new column to df4\n",
    "df4[\"New\"] = new_column\n",
    "df4"
   ]
  },
  {
   "cell_type": "code",
   "execution_count": null,
   "metadata": {},
   "outputs": [],
   "source": [
    "# Assignment: find the solution to get a sum of A,B,C,D and add another column to get average column of the data \n",
    "df4['New_Mean'] = df4[['A', 'B', 'C', 'D', 'Mean']].mean(axis=0)"
   ]
  }
 ],
 "metadata": {
  "kernelspec": {
   "display_name": "Python 3",
   "language": "python",
   "name": "python3"
  },
  "language_info": {
   "codemirror_mode": {
    "name": "ipython",
    "version": 3
   },
   "file_extension": ".py",
   "mimetype": "text/x-python",
   "name": "python",
   "nbconvert_exporter": "python",
   "pygments_lexer": "ipython3",
   "version": "3.12.4"
  }
 },
 "nbformat": 4,
 "nbformat_minor": 2
}
